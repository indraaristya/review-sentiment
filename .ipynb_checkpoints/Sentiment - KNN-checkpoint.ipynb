{
 "cells": [
  {
   "cell_type": "code",
   "execution_count": 1,
   "metadata": {},
   "outputs": [],
   "source": [
    "path = './zomato.csv'"
   ]
  },
  {
   "cell_type": "code",
   "execution_count": 2,
   "metadata": {},
   "outputs": [],
   "source": [
    "import csv\n",
    "import os\n",
    "import glob\n",
    "import numpy as np\n",
    "import math\n",
    "#scikit learn\n",
    "from sklearn.pipeline import Pipeline\n",
    "from sklearn.metrics import accuracy_score, classification_report, confusion_matrix\n",
    "from sklearn.model_selection import GridSearchCV\n",
    "from sklearn.feature_extraction.text import CountVectorizer\n",
    "from sklearn.feature_extraction.text import TfidfTransformer\n",
    "\n",
    "#stemmer\n",
    "from Sastrawi.Stemmer.StemmerFactory import StemmerFactory\n",
    "from Sastrawi.StopWordRemover.StopWordRemoverFactory import StopWordRemoverFactory"
   ]
  },
  {
   "cell_type": "code",
   "execution_count": 3,
   "metadata": {},
   "outputs": [],
   "source": [
    "def cleaning(sentence):\n",
    "    sentence = sentence.replace('\\ufeff','')\n",
    "    sentence = sentence.replace('\\n',' ')\n",
    "    sentence = sentence.replace('\\r',' ')\n",
    "    sentence = sentence.replace('\\n\\n',' ')\n",
    "    sentence = sentence.replace('\\r\\r',' ')\n",
    "    sentence = sentence.replace('.',' ')\n",
    "    sentence = sentence.replace(',',' ')\n",
    "    sentence = sentence.replace('\"',' ')\n",
    "    sentence = sentence.replace('!',' ')\n",
    "    sentence = sentence.replace('?',' ')\n",
    "    sentence = sentence.replace('/',' ')\n",
    "    sentence = sentence.replace('-',' ')\n",
    "    sentence = sentence.lstrip()\n",
    "    return sentence.lower()"
   ]
  },
  {
   "cell_type": "code",
   "execution_count": 4,
   "metadata": {},
   "outputs": [],
   "source": [
    "def convert(sentences):\n",
    "    import re\n",
    "    cleanEmoticon = []\n",
    "    for sentence in sentences:\n",
    "        try:\n",
    "            highpoints = re.compile(u'([\\U00002600-\\U000027BF])|([\\U0001f300-\\U0001f64F])|([\\U0001f680-\\U0001f6FF])')\n",
    "        except re.error:\n",
    "            highpoints = re.compile(u'([\\u2600-\\u27BF])|([\\uD83C][\\uDF00-\\uDFFF])|([\\uD83D][\\uDC00-\\uDE4F])|([\\uD83D][\\uDE80-\\uDEFF])')\n",
    "    \n",
    "        cleanEmoticon.append(highpoints.sub(u'\\u25FD', sentence))\n",
    "    return cleanEmoticon"
   ]
  },
  {
   "cell_type": "code",
   "execution_count": 6,
   "metadata": {},
   "outputs": [],
   "source": [
    "x = []\n",
    "y = []\n",
    "with open(path, encoding=\"utf8\") as a:\n",
    "    b = csv.reader(a)\n",
    "    for row in b:\n",
    "        x.append(cleaning(row[2]))\n",
    "        y.append(row[3])\n",
    "x = np.array(x)\n",
    "y = np.array(y)"
   ]
  },
  {
   "cell_type": "code",
   "execution_count": 7,
   "metadata": {},
   "outputs": [],
   "source": [
    "randomize = np.arange(len(x))\n",
    "np.random.shuffle(randomize)\n",
    "x = x[randomize]\n",
    "y = y[randomize]"
   ]
  },
  {
   "cell_type": "code",
   "execution_count": 8,
   "metadata": {},
   "outputs": [],
   "source": [
    "x_train = x[:150]\n",
    "y_train = y[:150]\n",
    "\n",
    "x_test = x[150:]\n",
    "y_test = y[150:]"
   ]
  },
  {
   "cell_type": "code",
   "execution_count": 9,
   "metadata": {},
   "outputs": [],
   "source": [
    "def preprocess(sentences): \n",
    "    factory = StopWordRemoverFactory()\n",
    "    stopword = factory.create_stop_word_remover()\n",
    "    \n",
    "    factory = StemmerFactory()\n",
    "    stemmer = factory.create_stemmer()\n",
    "    result =[]\n",
    "    for sentence in sentences:\n",
    "        result.append(stemmer.stem(stopword.remove(sentence)))\n",
    "    return result"
   ]
  },
  {
   "cell_type": "code",
   "execution_count": 10,
   "metadata": {},
   "outputs": [],
   "source": [
    "# stem_test = ['dia biasanya makan nasi padang', \n",
    "#              'aku menyukainya dengan tulus dan raisa', \n",
    "#              'ku tak kan pernah memilikinya sampai kapanpun', \n",
    "#              'karena dia sudah memilikinya & dimilikinya']\n",
    "\n",
    "x_train = preprocess(x_train)\n",
    "x_test = preprocess(x_test)"
   ]
  },
  {
   "cell_type": "code",
   "execution_count": 11,
   "metadata": {},
   "outputs": [],
   "source": [
    "x_train = convert(x_train)\n",
    "x_test = convert(x_test)"
   ]
  },
  {
   "cell_type": "markdown",
   "metadata": {},
   "source": [
    "### Scikit-Learn Tweaks\n",
    "Reference:\n",
    "https://towardsdatascience.com/machine-learning-nlp-text-classification-using-scikit-learn-python-and-nltk-c52b92a7c73a"
   ]
  },
  {
   "cell_type": "code",
   "execution_count": 37,
   "metadata": {},
   "outputs": [],
   "source": [
    "from sklearn import svm\n",
    "from sklearn.neighbors import KNeighborsClassifier\n",
    "from sklearn.decomposition import PCA\n",
    "\n",
    "text_clf = Pipeline([\n",
    "                     ('vect', CountVectorizer()),\n",
    "                     ('tfidf', TfidfTransformer()),\n",
    "                     ('pca', PCA(n_components=128)),\n",
    "                     ('clf', KNeighborsClassifier(n_neighbors=9)),\n",
    "])\n",
    "text_clf = text_clf.fit(x_train, y_train)"
   ]
  },
  {
   "cell_type": "code",
   "execution_count": 38,
   "metadata": {},
   "outputs": [],
   "source": [
    "y_pred = text_clf.predict(x_test)"
   ]
  },
  {
   "cell_type": "code",
   "execution_count": 39,
   "metadata": {},
   "outputs": [
    {
     "data": {
      "text/plain": [
       "0.7"
      ]
     },
     "execution_count": 39,
     "metadata": {},
     "output_type": "execute_result"
    }
   ],
   "source": [
    "accuracy_score(y_test, y_pred)"
   ]
  },
  {
   "cell_type": "code",
   "execution_count": 18,
   "metadata": {},
   "outputs": [],
   "source": [
    "from sklearn.naive_bayes import MultinomialNB\n",
    "text_clf = Pipeline([('vect', CountVectorizer()),\n",
    "#                      ('tfidf', TfidfTransformer()),\n",
    "                     ('clf', MultinomialNB()),\n",
    "])\n",
    "text_clf = text_clf.fit(x_train, y_train)"
   ]
  },
  {
   "cell_type": "code",
   "execution_count": 19,
   "metadata": {},
   "outputs": [],
   "source": [
    "y_pred = text_clf.predict(x_test)"
   ]
  },
  {
   "cell_type": "code",
   "execution_count": 20,
   "metadata": {},
   "outputs": [
    {
     "data": {
      "text/plain": [
       "0.76"
      ]
     },
     "execution_count": 20,
     "metadata": {},
     "output_type": "execute_result"
    }
   ],
   "source": [
    "accuracy_score(y_test, y_pred) "
   ]
  },
  {
   "cell_type": "code",
   "execution_count": 21,
   "metadata": {},
   "outputs": [],
   "source": [
    "s_l = classification_report(y_test, y_pred,target_names=['0','1'])"
   ]
  },
  {
   "cell_type": "code",
   "execution_count": 22,
   "metadata": {},
   "outputs": [
    {
     "name": "stdout",
     "output_type": "stream",
     "text": [
      "             precision    recall  f1-score   support\n",
      "\n",
      "          0       0.71      0.88      0.79        25\n",
      "          1       0.84      0.64      0.73        25\n",
      "\n",
      "avg / total       0.78      0.76      0.76        50\n",
      "\n"
     ]
    }
   ],
   "source": [
    "print(s_l)"
   ]
  },
  {
   "cell_type": "code",
   "execution_count": 23,
   "metadata": {},
   "outputs": [
    {
     "data": {
      "text/plain": [
       "array([[22,  3],\n",
       "       [ 9, 16]], dtype=int64)"
      ]
     },
     "execution_count": 23,
     "metadata": {},
     "output_type": "execute_result"
    }
   ],
   "source": [
    "confusion_matrix(y_test, y_pred)"
   ]
  },
  {
   "cell_type": "code",
   "execution_count": 24,
   "metadata": {},
   "outputs": [
    {
     "name": "stdout",
     "output_type": "stream",
     "text": [
      "Accuracy: [0.825, 0.75, 0.775, 0.7, 0.725]\n",
      "Mean Acc of 5 Fold: 0.755\n"
     ]
    }
   ],
   "source": [
    "from sklearn.model_selection import KFold\n",
    "\n",
    "x = np.concatenate((x_train,x_test))\n",
    "y = np.concatenate((y_train,y_test))\n",
    "        \n",
    "randomize = np.arange(len(x))\n",
    "np.random.shuffle(randomize)\n",
    "\n",
    "acc = []\n",
    "folds = 5\n",
    "kf = KFold(n_splits=folds)\n",
    "for train, test in kf.split(x):\n",
    "    x_train, x_test, y_train, y_test = x[train],x[test],y[train],y[test]\n",
    "    \n",
    "    text_clf = Pipeline([('vect', CountVectorizer()),\n",
    "                     ('clf', MultinomialNB()),\n",
    "    ])\n",
    "    text_clf = text_clf.fit(x_train, y_train)\n",
    "    y_pred = text_clf.predict(x_test)\n",
    "    acc.append(accuracy_score(y_test, y_pred))\n",
    "print(\"Accuracy:\",acc)\n",
    "print(\"Mean Acc of\",folds,\"Fold:\",np.mean(acc))"
   ]
  },
  {
   "cell_type": "code",
   "execution_count": null,
   "metadata": {
    "collapsed": true
   },
   "outputs": [],
   "source": []
  }
 ],
 "metadata": {
  "kernelspec": {
   "display_name": "Python 3",
   "language": "python",
   "name": "python3"
  },
  "language_info": {
   "codemirror_mode": {
    "name": "ipython",
    "version": 3
   },
   "file_extension": ".py",
   "mimetype": "text/x-python",
   "name": "python",
   "nbconvert_exporter": "python",
   "pygments_lexer": "ipython3",
   "version": "3.6.4"
  }
 },
 "nbformat": 4,
 "nbformat_minor": 2
}
