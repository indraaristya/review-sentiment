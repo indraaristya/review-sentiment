{
 "cells": [
  {
   "cell_type": "markdown",
   "metadata": {},
   "source": [
    "# Sentiment Classification using Multinomial NB & SVM-MI (Stemming & Non-Stemming)\n",
    "\n",
    "#### I Putu Indra Aristya - 1301154219\n",
    "#### Yogi Wisesa Chandra - 1301154282\n",
    "#### Raginda Firdaus - 1301150037"
   ]
  },
  {
   "cell_type": "code",
   "execution_count": 1,
   "metadata": {
    "collapsed": true
   },
   "outputs": [],
   "source": [
    "path = './zomato.csv'"
   ]
  },
  {
   "cell_type": "code",
   "execution_count": 2,
   "metadata": {},
   "outputs": [
    {
     "name": "stderr",
     "output_type": "stream",
     "text": [
      "/Users/indraaristya/anaconda3/lib/python3.6/importlib/_bootstrap.py:219: RuntimeWarning: numpy.dtype size changed, may indicate binary incompatibility. Expected 96, got 88\n",
      "  return f(*args, **kwds)\n",
      "/Users/indraaristya/anaconda3/lib/python3.6/importlib/_bootstrap.py:219: RuntimeWarning: numpy.dtype size changed, may indicate binary incompatibility. Expected 96, got 88\n",
      "  return f(*args, **kwds)\n",
      "/Users/indraaristya/anaconda3/lib/python3.6/importlib/_bootstrap.py:219: RuntimeWarning: numpy.dtype size changed, may indicate binary incompatibility. Expected 96, got 88\n",
      "  return f(*args, **kwds)\n"
     ]
    }
   ],
   "source": [
    "import csv\n",
    "import os\n",
    "import glob\n",
    "import numpy as np\n",
    "import math\n",
    "\n",
    "#scikit learn\n",
    "from sklearn.metrics import accuracy_score, classification_report, confusion_matrix\n",
    "from sklearn.feature_extraction.text import CountVectorizer\n",
    "from sklearn.svm import SVC\n",
    "from sklearn.naive_bayes import MultinomialNB\n",
    "from __future__ import division\n",
    "from sklearn.metrics import mutual_info_score\n",
    "\n",
    "#stemmer\n",
    "from Sastrawi.Stemmer.StemmerFactory import StemmerFactory\n",
    "from Sastrawi.StopWordRemover.StopWordRemoverFactory import StopWordRemoverFactory"
   ]
  },
  {
   "cell_type": "markdown",
   "metadata": {},
   "source": [
    "## Prosedur yang didefinisikan"
   ]
  },
  {
   "cell_type": "markdown",
   "metadata": {},
   "source": [
    "### Cleaning digunakan untuk menghapus tanda baca dan merubah huruf menjadi huruf kecil"
   ]
  },
  {
   "cell_type": "code",
   "execution_count": 3,
   "metadata": {
    "collapsed": true
   },
   "outputs": [],
   "source": [
    "def cleaning(sentence):\n",
    "#     bil = ['1', '2', '3', '4', '5', '6', '7', '8', '9', '0']\n",
    "    sentence = sentence.replace('\\ufeff','')\n",
    "    sentence = sentence.replace('\\n',' ')\n",
    "    sentence = sentence.replace('\\r',' ')\n",
    "    sentence = sentence.replace('\\n\\n',' ')\n",
    "    sentence = sentence.replace('\\r\\r',' ')\n",
    "    sentence = sentence.replace('.',' ')\n",
    "    sentence = sentence.replace(',',' ')\n",
    "    sentence = sentence.replace('\"',' ')\n",
    "    sentence = sentence.replace('!',' ')\n",
    "    sentence = sentence.replace('?',' ')\n",
    "    sentence = sentence.replace('/',' ')\n",
    "    sentence = sentence.replace('-',' ')\n",
    "#     for i in bil:\n",
    "#         sentence = sentence.replace(i,' ')\n",
    "    sentence = sentence.lstrip()\n",
    "    return sentence.lower()"
   ]
  },
  {
   "cell_type": "markdown",
   "metadata": {},
   "source": [
    "### Convert digunakan untuk menghilangkan emoji"
   ]
  },
  {
   "cell_type": "code",
   "execution_count": 4,
   "metadata": {
    "collapsed": true
   },
   "outputs": [],
   "source": [
    "def convert(sentences):\n",
    "    import re\n",
    "    cleanEmoticon = []\n",
    "    for sentence in sentences:\n",
    "        try:\n",
    "            highpoints = re.compile(u'([\\U00002600-\\U000027BF])|([\\U0001f300-\\U0001f64F])|([\\U0001f680-\\U0001f6FF])')\n",
    "        except re.error:\n",
    "            highpoints = re.compile(u'([\\u2600-\\u27BF])|([\\uD83C][\\uDF00-\\uDFFF])|([\\uD83D][\\uDC00-\\uDE4F])|([\\uD83D][\\uDE80-\\uDEFF])')\n",
    "    \n",
    "        cleanEmoticon.append(highpoints.sub(u'\\u25FD', sentence))\n",
    "    return cleanEmoticon"
   ]
  },
  {
   "cell_type": "markdown",
   "metadata": {},
   "source": [
    "### Preprocess digunakan untuk melakukan Stemming Sastrawi"
   ]
  },
  {
   "cell_type": "code",
   "execution_count": 5,
   "metadata": {
    "collapsed": true
   },
   "outputs": [],
   "source": [
    "def preprocess(sentences): \n",
    "    factorys = StopWordRemoverFactory()\n",
    "    stopword = factorys.create_stop_word_remover()\n",
    "    \n",
    "    factory = StemmerFactory()\n",
    "    stemmer = factory.create_stemmer()\n",
    "    result =[]\n",
    "    for sentence in sentences:\n",
    "#         result.append(stemmer.stem(stopword.remove(sentence)))\n",
    "        result.append(stemmer.stem(sentence))\n",
    "    return result"
   ]
  },
  {
   "cell_type": "markdown",
   "metadata": {},
   "source": [
    "### Count Word In Class digunakan untuk menghitung kata pada suatu kelas (untuk NB)\n",
    "### Count Class In Doc digunakan untuk menghitung kelas pada semua dokumen (untuk NB)\n",
    "### Hitung Prob digunakan untuk menghitung probabilitas kata pada kelas (dengan Add One Smoothing - untuk NB)"
   ]
  },
  {
   "cell_type": "code",
   "execution_count": 6,
   "metadata": {
    "collapsed": true
   },
   "outputs": [],
   "source": [
    "def count_word_in_class(x,y):\n",
    "    count = {}\n",
    "    count_word = {}\n",
    "    word_class = {}\n",
    "    for i in range(0, len(x)):\n",
    "        x_split = x[i].split()\n",
    "        for word in x_split:\n",
    "            w_c = word+str(\",\")+str(y[i])\n",
    "            if (w_c in count):\n",
    "                count[w_c] += 1\n",
    "            else:\n",
    "                count[w_c] = 1\n",
    "                \n",
    "            if (word in count_word):\n",
    "                count_word[word] += 1\n",
    "            else:\n",
    "                count_word[word] = 1\n",
    "                \n",
    "            if (y[i] in word_class):\n",
    "                word_class[y[i]] += 1\n",
    "            else:\n",
    "                word_class[y[i]] = 1\n",
    "    return count, count_word, word_class\n",
    "\n",
    "def count_class_in_doc(y):\n",
    "    count = {}\n",
    "    for i in range(0, len(y)):\n",
    "        if (y[i] in count):\n",
    "            count[y[i]] += 1\n",
    "        else:\n",
    "            count[y[i]] = 1\n",
    "    return count\n",
    "\n",
    "def hitung_prob(count,word,uniq):\n",
    "    return ((count + 1)/(word+uniq))"
   ]
  },
  {
   "cell_type": "markdown",
   "metadata": {},
   "source": [
    "### Multi NB digunakan untuk melakukan klasifikasi dengan Multinomial Naive Bayes"
   ]
  },
  {
   "cell_type": "code",
   "execution_count": 7,
   "metadata": {
    "collapsed": true
   },
   "outputs": [],
   "source": [
    "def multiNB(x,y,x_test):\n",
    "    count_word_on_class, count_word, word_class = count_word_in_class(x,y)\n",
    "\n",
    "    count_class = count_class_in_doc(y)\n",
    "\n",
    "    kelaz = list(count_class.keys())\n",
    "    y_pred = []\n",
    "    for i in range(0,len(x_test)):\n",
    "        prob_kelas = {}\n",
    "        for j in count_class.keys():\n",
    "            prob_c = 1\n",
    "            x_split = x_test[i].split()\n",
    "            for k in x_split:\n",
    "                tag = k+str(',')+str(j)\n",
    "                prob_c += math.log(hitung_prob(count_word_on_class.get(tag,0),word_class.get(j),len(count_word.keys())))\n",
    "            nama = str(i)+','+str(j)\n",
    "            prob_kelas[nama] = prob_c\n",
    "        y_pred.append(kelaz[np.argmax(list(prob_kelas.values()))])\n",
    "    return y_pred"
   ]
  },
  {
   "cell_type": "markdown",
   "metadata": {},
   "source": [
    "### SVM Linear digunakan untuk melakukan klasifikasi dengan SVM Kernel Linear"
   ]
  },
  {
   "cell_type": "code",
   "execution_count": 8,
   "metadata": {
    "collapsed": true
   },
   "outputs": [],
   "source": [
    "def svm_linear(x,y,x_test):\n",
    "    text_clf = SVC(kernel = 'linear')\n",
    "    text_clf = text_clf.fit(x, y)\n",
    "    y_pred_svm = text_clf.predict(x_test)\n",
    "    return y_pred_svm"
   ]
  },
  {
   "cell_type": "markdown",
   "metadata": {},
   "source": [
    "### Mutual Information digunakan untuk menghitung Mutual Information dari data setelah Count Vect"
   ]
  },
  {
   "cell_type": "code",
   "execution_count": 9,
   "metadata": {
    "collapsed": true
   },
   "outputs": [],
   "source": [
    "def mutual_information(x_train, y_train, ambil, x_test):\n",
    "    # n - data\n",
    "    # b - label\n",
    "    \n",
    "    x_train = np.array(x_train.todense())\n",
    "    x_test = np.array(x_test.todense())\n",
    "    \n",
    "    x_train = np.array(x_train)\n",
    "    x_test = np.array(x_test)\n",
    "    \n",
    "    a = x_train.shape[1]\n",
    "    \n",
    "    mi = np.zeros((a, 1))\n",
    "    for i in range(a):\n",
    "        mi[i] = mutual_info_score(x_train[:, i].ravel(), y_train)\n",
    "    \n",
    "    sorted_mix = sorted(range(len(mi)), key = lambda l:mi[l],reverse=True)\n",
    "    sorted_mi = sorted_mix[:ambil]\n",
    "    \n",
    "    x_train_mi = np.zeros((len(x_train), ambil))\n",
    "    x_test_mi = np.zeros((len(x_test), ambil))\n",
    "    \n",
    "    for i in range(len(sorted_mi)):\n",
    "        x_train_mi[:, i] = x_train[:, sorted_mi[i]]\n",
    "\n",
    "        x_test_mi[:,i] = x_test[:, sorted_mi[i]]\n",
    "    return x_train_mi, x_test_mi"
   ]
  },
  {
   "cell_type": "markdown",
   "metadata": {},
   "source": [
    "### Membaca Data dan dilakukan shuffle"
   ]
  },
  {
   "cell_type": "code",
   "execution_count": 10,
   "metadata": {
    "collapsed": true
   },
   "outputs": [],
   "source": [
    "x = []\n",
    "y = []\n",
    "with open(path, encoding=\"utf8\") as a:\n",
    "    b = csv.reader(a)\n",
    "    for row in b:\n",
    "        x.append(cleaning(row[2]))\n",
    "        y.append(row[3])\n",
    "x = np.array(x)\n",
    "y = np.array(y)"
   ]
  },
  {
   "cell_type": "code",
   "execution_count": 11,
   "metadata": {
    "collapsed": true
   },
   "outputs": [],
   "source": [
    "# randomize = np.arange(len(x))\n",
    "# np.random.shuffle(randomize)\n",
    "randomize = np.load('./random.npy')\n",
    "x = x[randomize]\n",
    "y = y[randomize]\n",
    "\n",
    "# np.save('random.npy',randomize)"
   ]
  },
  {
   "cell_type": "markdown",
   "metadata": {},
   "source": [
    "## Klasifikasi menggunakan Multinomial Naive Bayes dan SVM Linear"
   ]
  },
  {
   "cell_type": "code",
   "execution_count": 12,
   "metadata": {},
   "outputs": [
    {
     "name": "stdout",
     "output_type": "stream",
     "text": [
      "NB tanpa Stemming: 80.0\n",
      "SVM-MI tanpa Stemming: 68.0\n",
      "NB dengan Stemming: 82.66666666666667\n",
      "SVM-MI dengan Stemming: 70.66666666666667\n",
      " \n",
      "Report 1: Naive Bayes\n",
      "              precision    recall  f1-score   support\n",
      "\n",
      "           0       0.91      0.72      0.81        43\n",
      "           1       0.71      0.91      0.79        32\n",
      "\n",
      "   micro avg       0.80      0.80      0.80        75\n",
      "   macro avg       0.81      0.81      0.80        75\n",
      "weighted avg       0.82      0.80      0.80        75\n",
      "\n",
      "\n",
      " Report 2: Naive Bayes with Stemming\n",
      "              precision    recall  f1-score   support\n",
      "\n",
      "           0       0.88      0.81      0.84        43\n",
      "           1       0.77      0.84      0.81        32\n",
      "\n",
      "   micro avg       0.83      0.83      0.83        75\n",
      "   macro avg       0.82      0.83      0.82        75\n",
      "weighted avg       0.83      0.83      0.83        75\n",
      "\n",
      "\n",
      " Report 3: SVM\n",
      "              precision    recall  f1-score   support\n",
      "\n",
      "           0       0.79      0.60      0.68        43\n",
      "           1       0.60      0.78      0.68        32\n",
      "\n",
      "   micro avg       0.68      0.68      0.68        75\n",
      "   macro avg       0.69      0.69      0.68        75\n",
      "weighted avg       0.71      0.68      0.68        75\n",
      "\n",
      "\n",
      " Report 3: SVM with Stemming\n",
      "              precision    recall  f1-score   support\n",
      "\n",
      "           0       0.78      0.67      0.72        43\n",
      "           1       0.63      0.75      0.69        32\n",
      "\n",
      "   micro avg       0.71      0.71      0.71        75\n",
      "   macro avg       0.71      0.71      0.71        75\n",
      "weighted avg       0.72      0.71      0.71        75\n",
      "\n"
     ]
    }
   ],
   "source": [
    "from sklearn.model_selection import KFold\n",
    "\n",
    "acc_stem = []\n",
    "acc_non_stem = []\n",
    "\n",
    "salah_nb_stem = []\n",
    "salah_svm_stem = []\n",
    "\n",
    "mi_feature = 500\n",
    "\n",
    "x_train, x_test, y_train, y_test = x[:125],x[125:],y[:125],y[125:]\n",
    "kalimat_test = x[125:]\n",
    "\n",
    "x_train_stem = preprocess(x_train)\n",
    "x_test_stem = preprocess(x_test)\n",
    "\n",
    "\n",
    "## Multinomial Naive Bayes\n",
    "y_pred_nb = multiNB(x_train, y_train, x_test)\n",
    "acc_nb = accuracy_score(y_test, y_pred_nb)*100\n",
    "report_nb = classification_report(y_test, y_pred_nb)\n",
    "acc_non_stem.append(acc_nb)\n",
    "\n",
    "## SVM Linear\n",
    "countvect = CountVectorizer()\n",
    "c = countvect.fit(x_train)\n",
    "x_mi_train = c.transform(x_train)\n",
    "x_mi_test = c.transform(x_test)\n",
    "\n",
    "x_mi_train, x_mi_test = mutual_information(x_mi_train, y_train, mi_feature, x_mi_test)\n",
    "y_pred_svm = svm_linear(x_mi_train, y_train, x_mi_test)\n",
    "acc_svm = accuracy_score(y_test, y_pred_svm)*100\n",
    "report_svm = classification_report(y_test, y_pred_svm)\n",
    "acc_non_stem.append(acc_svm)\n",
    "\n",
    "## Multinomial Naive Bayes (dengan Stemming)\n",
    "\n",
    "y_pred_nb = multiNB(x_train_stem, y_train, x_test_stem)\n",
    "\n",
    "for i in range(len(y_test)):\n",
    "    if y_test[i] != y_pred_nb[i]:\n",
    "        salah_nb_stem.append([kalimat_test[i], y_pred_nb[i], y_test[i]])\n",
    "        \n",
    "acc_nb = accuracy_score(y_test, y_pred_nb)*100\n",
    "report_nb_stem = classification_report(y_test, y_pred_nb)\n",
    "acc_stem.append(acc_nb)\n",
    "\n",
    "## SVM Linear (dengan Stemming)\n",
    "countvect = CountVectorizer()\n",
    "c = countvect.fit(x_train_stem)\n",
    "x_mi_train_stem = c.transform(x_train_stem)\n",
    "x_mi_test_stem = c.transform(x_test_stem)\n",
    "\n",
    "x_mi_train_stem, x_mi_test_stem = mutual_information(x_mi_train_stem, y_train, mi_feature, x_mi_test_stem)\n",
    "y_pred_svm = svm_linear(x_mi_train_stem, y_train, x_mi_test_stem)\n",
    "\n",
    "for i in range(len(y_test)):\n",
    "    if y_test[i] != y_pred_svm[i]:\n",
    "        salah_svm_stem.append([kalimat_test[i], y_pred_svm[i], y_test[i]])\n",
    "\n",
    "acc_svm = accuracy_score(y_test, y_pred_svm)*100\n",
    "report_svm_stem = classification_report(y_test, y_pred_svm)\n",
    "acc_stem.append(acc_svm)\n",
    "\n",
    "\n",
    "print(\"NB tanpa Stemming:\",acc_non_stem[0])\n",
    "print(\"SVM-MI tanpa Stemming:\",acc_non_stem[1])\n",
    "\n",
    "print(\"NB dengan Stemming:\",acc_stem[0])\n",
    "print(\"SVM-MI dengan Stemming:\",acc_stem[1])\n",
    "print(\" \")\n",
    "\n",
    "print(\"Report 1: Naive Bayes\")\n",
    "print(report_nb)\n",
    "print(\"\\n Report 2: Naive Bayes with Stemming\")\n",
    "print(report_nb_stem)\n",
    "print(\"\\n Report 3: SVM\")\n",
    "print(report_svm)\n",
    "print(\"\\n Report 3: SVM with Stemming\")\n",
    "print(report_svm_stem)"
   ]
  },
  {
   "cell_type": "markdown",
   "metadata": {},
   "source": [
    "## Plot tanpa Stemming"
   ]
  },
  {
   "cell_type": "code",
   "execution_count": 13,
   "metadata": {},
   "outputs": [
    {
     "data": {
      "image/png": "[encoded data removed]",
      "text/plain": [
       "<matplotlib.figure.Figure at 0x1a1a1a3dd8>"
      ]
     },
     "metadata": {},
     "output_type": "display_data"
    }
   ],
   "source": [
    "import matplotlib.pyplot as plt\n",
    "\n",
    "objects = ['NB','SVM-MI']\n",
    "y_pos = np.arange(len(objects))\n",
    "\n",
    "a = plt.bar(y_pos, acc_non_stem ,align='center', alpha=0.5)\n",
    "plt.xticks(y_pos, objects)\n",
    "plt.ylabel('Acc')\n",
    "plt.title('Perbandingan Nilai Akurasi')\n",
    " \n",
    "plt.show()"
   ]
  },
  {
   "cell_type": "markdown",
   "metadata": {},
   "source": [
    "## Plot dengan Stemming"
   ]
  },
  {
   "cell_type": "code",
   "execution_count": 14,
   "metadata": {},
   "outputs": [
    {
     "data": {
      "image/png": "[encoded data removed]",
      "text/plain": [
       "<matplotlib.figure.Figure at 0x1a1bb57588>"
      ]
     },
     "metadata": {},
     "output_type": "display_data"
    }
   ],
   "source": [
    "import matplotlib.pyplot as plt\n",
    "\n",
    "objects = ['NB','SVM-MI']\n",
    "y_pos = np.arange(len(objects))\n",
    " \n",
    "plt.bar(y_pos, acc_stem ,align='center', alpha=0.5)\n",
    "plt.xticks(y_pos, objects)\n",
    "plt.ylabel('Acc')\n",
    "plt.title('Perbandingan Nilai Akurasi')\n",
    " \n",
    "plt.show()"
   ]
  },
  {
   "cell_type": "markdown",
   "metadata": {},
   "source": [
    "## Gabungan Plot dengan dan tanpa Stemming"
   ]
  },
  {
   "cell_type": "code",
   "execution_count": 15,
   "metadata": {
    "collapsed": true
   },
   "outputs": [],
   "source": [
    "akurasi = []\n",
    "for i in range(len(acc_stem)):\n",
    "    akurasi.append(acc_non_stem[i])\n",
    "    akurasi.append(acc_stem[i])"
   ]
  },
  {
   "cell_type": "code",
   "execution_count": 16,
   "metadata": {},
   "outputs": [
    {
     "data": {
      "image/png": "[encoded data removed]",
      "text/plain": [
       "<matplotlib.figure.Figure at 0x1a1bb6ac18>"
      ]
     },
     "metadata": {},
     "output_type": "display_data"
    }
   ],
   "source": [
    "import matplotlib.pyplot as plt\n",
    "plt.figure(figsize=(10,8))\n",
    "objects = ['NB', 'NB Stem','SVM-MI', 'SVM-MI Stem']\n",
    "y_pos = np.arange(len(objects))\n",
    " \n",
    "bar = plt.bar(y_pos, akurasi , alpha=0.5)\n",
    "bar[1].set_color('g')\n",
    "bar[3].set_color('g')\n",
    "\n",
    "plt.xticks(y_pos, objects)\n",
    "plt.ylabel('Acc')\n",
    "plt.title('Perbandingan Nilai Akurasi')\n",
    " \n",
    "plt.show()"
   ]
  },
  {
   "cell_type": "markdown",
   "metadata": {},
   "source": [
    "### Jumlah Data dengan kelas Positif (1) dan Negatif (0)"
   ]
  },
  {
   "cell_type": "code",
   "execution_count": 17,
   "metadata": {
    "collapsed": true
   },
   "outputs": [],
   "source": [
    "satu, nol = 0, 0\n",
    "for i in y_test:\n",
    "    if i == '1':\n",
    "        satu+=1\n",
    "    else:\n",
    "        nol+=1"
   ]
  },
  {
   "cell_type": "code",
   "execution_count": 18,
   "metadata": {},
   "outputs": [
    {
     "data": {
      "text/plain": [
       "32"
      ]
     },
     "execution_count": 18,
     "metadata": {},
     "output_type": "execute_result"
    }
   ],
   "source": [
    "satu"
   ]
  },
  {
   "cell_type": "code",
   "execution_count": 19,
   "metadata": {},
   "outputs": [
    {
     "data": {
      "text/plain": [
       "43"
      ]
     },
     "execution_count": 19,
     "metadata": {},
     "output_type": "execute_result"
    }
   ],
   "source": [
    "nol"
   ]
  },
  {
   "cell_type": "markdown",
   "metadata": {},
   "source": [
    "### Kalimat yang salah diklasifikasi menggunakan Multinomial Naive Bayes (dengan Stemming) "
   ]
  },
  {
   "cell_type": "code",
   "execution_count": 20,
   "metadata": {},
   "outputs": [
    {
     "name": "stdout",
     "output_type": "stream",
     "text": [
      "['sebenernya kesini karena tidak sengaja lewat dan kebetulan lagi haus juga  cobain minuman vanilla milkshake rasanya sih manis vanilla aja  trus juga takeaway makanan nya caesar salad dan sandwich menurutku untuk salad nya isiannya dikit  sayuran nya pilihan cuma ada selada aja dressingnya biasa aja  kalau buat sandwich nya juga kurang ada rasa alias hambar  gak bakal balik lagi sih kesini mending cobain ditempat lain saja', '1', '0'] \n",
      "\n",
      "[\"saung or warung nasi pengkolan 1 located in setaibudi street which is very crowded on weekend with local tourist    the restaurant is like rest area if you are hungry due to the bad traffic jam from bandung city towards lembang  the restaurant is in slope of lembang  they also offer good view of crops land and the green  the place is very spacious and have many seating both for small or big group  unfortunately  the place isn't well maintained and looks dirty  the worst is the service  that you can't easily call the waiters for menu or for help  the waiters aren't well dressed  they look like still high school students with no proper attribute as waiter  then the price  for me the price is affordable and reasonable  the package menu starts from 30k  the taste is like other sundanese restaurant food  it is good so far  but the sambal is limited in small amount so for people who place sambal as the main ingredient of happiness this place isn't recommended    overall  this place is the right place for you if you're tired with the traffic and need quick meals  the parking lot is spacious but always full with car  but the parking staff are very helpful \", '1', '0'] \n",
      "\n",
      "['tempat nya cukup unik dan punya ciri khas tersendiri  menu yang termasuk enak adalah meatball baked ricenya walaupun porsinya terbilang di bawah standar  apalagi kalau kita lagi ingin makan kenyang  untuk appetizernya hampir semuanya enak  dari jamur sampai tahu cabai garamnya bikin nagih ', '0', '1'] \n",
      "\n",
      "['this place has nice ambience to do some works or studying  but  the foods were disappointing  i ordered mie goreng (rp 10 000) and added shrimp as topping for additional rp 12 000  so  i expected a pretty much shrimp added to my mie goreng  but  what i get was mie goreng with 2 pcs of very super small shrimps  when i asked the chef  he said that the shrimps were already cut in very small pieces and mixed with the mie goreng  but i didn’t see any shrimps except the 2 very super small shrimps  what a disappointment  so if you need a place to study or doing some works with your friends  this is the place  but  do not ever order the food cause it’s not worth it ', '1', '0'] \n",
      "\n",
      "['upnormal yang belum lama buka di rawamangun  lokasinya di ex sevel  tempatnya spacious dengan smoking area di luar dan non smoking area di bagian dalam  interiornya bagus  bernuansa industrial dan sangat kekinian  banyak sekali colokan listriknya untuk charge hp atau laptop  saya datang malam2  di luar rame banget  tapi di dalam tidak terlalu ramai  di sini ada 2 private room yang bisa dipergunakan untuk private event atau meeting room  tempatnya bersih dan nyaman  saya pesan indomie telor kornet keju rebus  disajikan dengan kuah yang sangat panas  pas lagi kurang enak badan jadi sangat menikmati rasa indomie ini  special egg butter susu keju dan roti butter special upnormal  saya suka toast di upnormal karena rotinya cukup tebal  roti ini seperti french toast dan buttery banget tapi nga bikin eneg juga  paling suka yang egg butter susu keju karena topping kejunya banyak jadi rasanya makin enak dan legit  enak banget untuk camilan sore ataupun di malam hari  recommended  saya suka banget interior dan ambiancenya  agak beda aja dengan tempat2 lain  lebih berasa seperti di café kekinian  servicenya juga baik  recommended ', '0', '1'] \n",
      "\n",
      "['dulu seneng banget makan kesini karena harganya super masuk dikantong mahasiswa ya  murah murah dan enak  variannya banyak  tp entah kenapa terakhir kesini kok rasanya hambar banget  pesen 2 varian terbaru mereka yang wagyu sm mozarella eh rasanya bland banget  tp utk service lumayan  waiternya gercep  nyediainnya jg gak lama  minumannya standar  waktu itu pernah nyobain dessert yg es duren dan lumayan lah untuk pemanis abis makan ', '1', '0'] \n",
      "\n",
      "['gue kesini sama my bf  sepi banget parahsihh itu hari jumat sore gitu  gue pilih di rooftop nya  gue cuma pesen cumi goreng tepung sm es jeruk  cumi nya benerbener keras dan es jeruknya tuh sirup coiii kebayang kan manisnya fake gitu ', '1', '0'] \n",
      "\n",
      "['padahal bakso boedjangan yang ditebet dan rawamangun udah lama buka  eh malah nyobain yang jauh dibandung      tempatnya bersih dan luas  sejejeran sama aneka resto dan cafe  kita pesan :       bakso boedjangan super mozzarella 20 5  tekstur dagingnya kerasa  ga terlalu soft tapi ga terlalu kenyal jg pas buat selera kekenyalan bakso saya  hanya saja kurang gurih buat kuahnya  well mozzarella hanya sedikit sekali        mie yamin healthy green  failed banget  seriously  hambar  overcooked  mienya putus putus  kuahnya juga failed  hanya bakso kecilnya yang enak        nasi goreng bakso  enak banget  gurih isi baksonya banyak  telurnya juga  take away juga buat di hotel        jus alpukat dancow  gak terlalu manis  kentalnya pas  enak bangettt      teh tarik hangat  rasa teh dan susunya seimbang ', '1', '0'] \n",
      "\n",
      "['nungguin nyonyaaah mendarat disini aja  gw pesannya es kopi susu doang  rasa kopi susunya sih biasa aja gak seperti di kopi tiam lainnya kayaknya kopinya deh yang biasa aja  jauh dari standar rasanya ', '1', '0'] \n",
      "\n",
      "['ass   buat para bapa ibu nya yang suka ataw pencita kopi   kini kedai kopi perjuangan yang berada di jln asem baris raya tebet  telah buka dan tempat nya inysa alloh ga bikin bapak ataw ibu kecewa ', '0', '1'] \n",
      "\n",
      "['ceritanya mau rayain sweet17 gue  tp bingung dmn  akhirnya ajak tmn2 guee kesini  sumpah gaa fokus makan  fokusnya selfie disini  thanks rumahmantan  semoga lbh cepet lg pelayanan makanannya yaa🙏', '0', '1'] \n",
      "\n",
      "['ok  ini tempat yang lagi hits banget di instagram karena banyak spot foto yang lucu2  pas sampai sana ternyata ga sebagus yang ada di instagram jadi kalau mau masuk resto wajib beli voucher seharga 10rb  nnti voucher nya bisa dipakai buat beli makanan minuman (menurut gw ini sama aja kayak tiket masuk sih haha   lucu masuk resto ada tiket masuknya) ok setelah beli voucher masuk ke dalam  ga ada waiters yang mengarahkan ke tempat duduk  jadi ya pilih tempat (atau duduk di tempat yg kosong)  menurut gw agak chaos ya jadinya  karena semua org pasti berebutan buat dapet tempat yg bagus haha   harusnya bisa diatur dg waiting list atau no meja saya pesan makanan  dan ternyata menu bakery nya kayak cake dll tidak available (what   ini judulnya bakery kan ) yasudah kita pesan cemilan aja  teman pesan seblak dan saya pesen pisang nugget  yah makanannya sih std aja yah    memang tempat ini sepertinya jual lokasi yang bagus dan interior instagramable aja  ', '1', '0'] \n",
      "\n",
      "['seru disini  makananya datengnya juga gak terlalu lama  pancakenya super duper enak  gak nyesel nunggunya  tempatnya juga free wifi  jadi gak bosen nunggu makananya dateng  😉', '0', '1'] \n",
      "\n"
     ]
    }
   ],
   "source": [
    "for i in (salah_nb_stem):\n",
    "    print(i,\"\\n\")"
   ]
  },
  {
   "cell_type": "markdown",
   "metadata": {},
   "source": [
    "### Kalimat yang salah diklasifikasi menggunakan SVM Linear (dengan Stemming) "
   ]
  },
  {
   "cell_type": "code",
   "execution_count": 21,
   "metadata": {},
   "outputs": [
    {
     "name": "stdout",
     "output_type": "stream",
     "text": [
      "['sebenernya kesini karena tidak sengaja lewat dan kebetulan lagi haus juga  cobain minuman vanilla milkshake rasanya sih manis vanilla aja  trus juga takeaway makanan nya caesar salad dan sandwich menurutku untuk salad nya isiannya dikit  sayuran nya pilihan cuma ada selada aja dressingnya biasa aja  kalau buat sandwich nya juga kurang ada rasa alias hambar  gak bakal balik lagi sih kesini mending cobain ditempat lain saja', '1', '0'] \n",
      "\n",
      "[\"saung or warung nasi pengkolan 1 located in setaibudi street which is very crowded on weekend with local tourist    the restaurant is like rest area if you are hungry due to the bad traffic jam from bandung city towards lembang  the restaurant is in slope of lembang  they also offer good view of crops land and the green  the place is very spacious and have many seating both for small or big group  unfortunately  the place isn't well maintained and looks dirty  the worst is the service  that you can't easily call the waiters for menu or for help  the waiters aren't well dressed  they look like still high school students with no proper attribute as waiter  then the price  for me the price is affordable and reasonable  the package menu starts from 30k  the taste is like other sundanese restaurant food  it is good so far  but the sambal is limited in small amount so for people who place sambal as the main ingredient of happiness this place isn't recommended    overall  this place is the right place for you if you're tired with the traffic and need quick meals  the parking lot is spacious but always full with car  but the parking staff are very helpful \", '1', '0'] \n",
      "\n",
      "['kalau ke sini siap siap aja makanannya lama karena yang masak tantenya sendiri sama asisten rumah tangganya  cheap and very cold beer  low budget customized mexican foods  dan dulu suka ramai sama expat jadi gak berasa di bandung  overall  tempat ini cukup ngangenin ', '0', '1'] \n",
      "\n",
      "['baru tau dan diajak kesini sama temen buat makan siang  pesen si eko dan mie goreng roa yang rasanyaaa super2 keasinan dan ga pedes sama sekali  udah gitu ada tmn yang pesen seblak gitu tapi kyknya lupa deh yaaa haha  orang nunggu sampe sejam lebih  karna semua orderan tuh udh keluar jd tinggal si seblak ini  padahal tempatnya nyaman loh', '1', '0'] \n",
      "\n",
      "['kaya toast 30ribu  rotinya tebel  kya roti tawar s*ri roti standart  didiemin sedikit rotinya lsng keras  butter dalam rotinya terlalu banyak dan ga dalam keadaan dingin  jadi enek  sorry to say  drop di gigitan pertama  rasa kopi o tergantung selera  dominasi rasa asam  tipis  mirip americano  pilihan gulanya tropicana slim dan gula putih  tidak tersedia brown sugar ', '1', '0'] \n",
      "\n",
      "['this place has nice ambience to do some works or studying  but  the foods were disappointing  i ordered mie goreng (rp 10 000) and added shrimp as topping for additional rp 12 000  so  i expected a pretty much shrimp added to my mie goreng  but  what i get was mie goreng with 2 pcs of very super small shrimps  when i asked the chef  he said that the shrimps were already cut in very small pieces and mixed with the mie goreng  but i didn’t see any shrimps except the 2 very super small shrimps  what a disappointment  so if you need a place to study or doing some works with your friends  this is the place  but  do not ever order the food cause it’s not worth it ', '1', '0'] \n",
      "\n",
      "['ga akan pernah lagi mw kesini  minumannya ga enak  terlalu mahal utk minum kayak gitu aja  pelayannya ancur banget  sy uda bayar tp teriak2 dia manggil nuduh sy ga bayar  dan ternyata bill nya salah  untung sy nyadar n balik lagi ambil kembalian  ga diajar sopan santun ya jd pelayan  definitely wont return to this place ', '1', '0'] \n",
      "\n",
      "['gaada yg spesial tapi nyaman aja nongkrong disini  pelayannya cepet bgt gapake lama  orang2nya murah senyum makanannya juga enak   mungkin kalo bukan orang rawamangun agak susah nemuin tempat ini soalnya harus nanjak dulu 😁', '0', '1'] \n",
      "\n",
      "['tempat kopi paporit  suasananya enak  minumannya enak  harganya pas di kantong 😊  apalagi cake nya  love it so much  cake yg must try  cookies n cream cheese cake  lezaatt     hari ini pesen hazelnut latte ice  kopinya brasa banget  yummyy   ga kalah sama tempat2 ngopi yg di emol2 itu lho  jdi ini selalu jdi menu paporit bt gue  😊👍🏻👍🏻  lalu mencoba nuttela latte  menu baru kliatannya  mmmm    rasanya  menurut gue  ga cocok  aneh rasanya  so    bukan menu yg akan dipesen utk kunjungan berikutnya  ', '0', '1'] \n",
      "\n",
      "['padahal bakso boedjangan yang ditebet dan rawamangun udah lama buka  eh malah nyobain yang jauh dibandung      tempatnya bersih dan luas  sejejeran sama aneka resto dan cafe  kita pesan :       bakso boedjangan super mozzarella 20 5  tekstur dagingnya kerasa  ga terlalu soft tapi ga terlalu kenyal jg pas buat selera kekenyalan bakso saya  hanya saja kurang gurih buat kuahnya  well mozzarella hanya sedikit sekali        mie yamin healthy green  failed banget  seriously  hambar  overcooked  mienya putus putus  kuahnya juga failed  hanya bakso kecilnya yang enak        nasi goreng bakso  enak banget  gurih isi baksonya banyak  telurnya juga  take away juga buat di hotel        jus alpukat dancow  gak terlalu manis  kentalnya pas  enak bangettt      teh tarik hangat  rasa teh dan susunya seimbang ', '1', '0'] \n",
      "\n",
      "['tempatnya cozy walaupun tidak terlalu besar  espresso con panna yaitu espresso yg disajikan dgn whipped cream on top punya cita rasa yg bagus  dish kesukaan saya dr regal adalah tuna pastry (4 3 5)nya  tuna pastrynya selalu fresh from the oven  pastrynya jg memiliki texture yg bagus  dan rasanya jg enak   di regal cukup nyaman untuk berlama2 dan bersantai sambil menikmati makanan dan minuman yg disajikan bersama pasangan  teman  kelurga  bahkan rekan kerja   food & beverages: 3 8 5 service: 4 5 ambience: 3 8 5 price: 3 5', '0', '1'] \n",
      "\n",
      "['tempatnya sempit  terus dalemnya tu pencahayaannya agak kurang  alias kayak remang2 gitu  padahal menurut gue sih dekornya lumayan instagramable hehe  pelayannya ramah  pelayanannya agak lama    tapi yang bikin gue ga sangka adalah ternyata rasa makanannya enak enak banget  porsinya sedang lah yaa    hargaanya juga terjangkau untuk kalangan mahasiswa haha   ', '0', '1'] \n",
      "\n",
      "['kecewa banget  berbagai macam menu burger  hot dog dan pizza katanya habis  trus waiternya konfirmasi  bukannya abis sih sebenernya tapi katanya masih belom bisa keluar  kalo baru banget jam buka okelahh  tapi gue dateng kesana jam 7 malem  dan disana cukup rame  kok menu pizza  burger dan hot dog ga bisa keluar tuh karna apa  parah sih ', '1', '0'] \n",
      "\n",
      "['pertama kesini mau pesen brownies ice cream katanya ice cream nya kosong trus aku ganti jadi pisang kabar udah nungguin eh taunya katanya keju sama cokelatnya kosong  temenku beli nasi goreng pelayananya juga lama   huft…', '1', '0'] \n",
      "\n",
      "['parah ini restoran  masa kaya toast gaada butternya  payah banget pokoknya restoran ini  gak lagi kesini deh nyesel bgt  minta butter aja susah banget', '1', '0'] \n",
      "\n",
      "['kemarin hari rabu sore gue kesini bareng temen gue  karena kebetulan lagi jalan di daerah rawamangun dan akhirnya memutuskan makan di sini  gak recommended menurut gue  pas sampe sana gue baru liat ternyata bukannya jam 5  tp lega karena pas liat jam gue nyampe jam 5 lewat  eh tapi ternyata belum buka jg masih di beresin  setelah munggu 10 menitan akhirnya di buka dan di bolehin masuk  pas sampe dalem bukannya langsung dikasih menu tp di anggurin  dan nunggu sekitar 15 menitan di samperin dan di bilangin kalo dapurnya lagi bermasalah jd harus nunggu dulu  waktu gue udah terbuang sia sia 30 menitan dan akhirnya gue cabut aja ga jadi makan disana  oh iya satu lg tukang parkirnya galak ', '1', '0'] \n",
      "\n",
      "['ok  ini tempat yang lagi hits banget di instagram karena banyak spot foto yang lucu2  pas sampai sana ternyata ga sebagus yang ada di instagram jadi kalau mau masuk resto wajib beli voucher seharga 10rb  nnti voucher nya bisa dipakai buat beli makanan minuman (menurut gw ini sama aja kayak tiket masuk sih haha   lucu masuk resto ada tiket masuknya) ok setelah beli voucher masuk ke dalam  ga ada waiters yang mengarahkan ke tempat duduk  jadi ya pilih tempat (atau duduk di tempat yg kosong)  menurut gw agak chaos ya jadinya  karena semua org pasti berebutan buat dapet tempat yg bagus haha   harusnya bisa diatur dg waiting list atau no meja saya pesan makanan  dan ternyata menu bakery nya kayak cake dll tidak available (what   ini judulnya bakery kan ) yasudah kita pesan cemilan aja  teman pesan seblak dan saya pesen pisang nugget  yah makanannya sih std aja yah    memang tempat ini sepertinya jual lokasi yang bagus dan interior instagramable aja  ', '1', '0'] \n",
      "\n",
      "['seru disini  makananya datengnya juga gak terlalu lama  pancakenya super duper enak  gak nyesel nunggunya  tempatnya juga free wifi  jadi gak bosen nunggu makananya dateng  😉', '0', '1'] \n",
      "\n",
      "['favorit bgt    tempatnya lucu gitu  mejanya ada tulisan2 buat para mantan (asooyyy)  pelayanannya juga ramah bgt  tempat favorit buat nongkrong2 bareng temen abis ngampus  kalo untuk makanannya biasa aja sih rasanya  cuma kalo makanannya kayak roti bakarnya yg beraneka rasa itu  rasanya enak bgt  kalo masalah harga    jangan ditanya lagi  murah bgt  asli  cuma ngerogoh duit gocap  dijamin kenyang  wifinya juga kenceng bgt  semoga sukses buat rumah mantan cafe 😻😻😻👍🏻👍🏻👍🏻', '0', '1'] \n",
      "\n",
      "['secara tempat harusnya cozy  tapi sound nya membingungkan  ada lagu di speaker  campur suara tv  jd bising yg aneh  mau diluar tp gak kalah bising  banyak gerombolan yg teriak2 kalo ngobrol  jadi cm pesen milkshake milo dan hot coffee deh ', '1', '0'] \n",
      "\n",
      "['pelayan yang perempuannya jutek dan songong  kakak saya ketumpahan minuman sma mbak2nya tpi dia gaminta maaf   bawah piringnya msh berminyak', '1', '0'] \n",
      "\n",
      "['gua order es kopi susu large (double espresso) dengan gula stengah krn gua ga suka kopi yang terlalu manis   cuma gua pesen via ojol jadi ga bisa komen mengenai ambience cafe nya ya   tapi kalau es kopi susunya  gua suka   kopi nya kerasa dan yang paling penting sih ga manis dan asem (gua ga cocok sama arabica langsung kembung perut)  ', '0', '1'] \n",
      "\n"
     ]
    }
   ],
   "source": [
    "for i in (salah_svm_stem):\n",
    "    print(i,\"\\n\")"
   ]
  },
  {
   "cell_type": "markdown",
   "metadata": {},
   "source": [
    "### Visualisasi Data Uji dengan TSNE"
   ]
  },
  {
   "cell_type": "code",
   "execution_count": 22,
   "metadata": {},
   "outputs": [
    {
     "name": "stderr",
     "output_type": "stream",
     "text": [
      "/Users/indraaristya/anaconda3/lib/python3.6/importlib/_bootstrap.py:219: RuntimeWarning: numpy.dtype size changed, may indicate binary incompatibility. Expected 96, got 88\n",
      "  return f(*args, **kwds)\n"
     ]
    }
   ],
   "source": [
    "from yellowbrick.text import TSNEVisualizer\n",
    "from sklearn.feature_extraction.text import TfidfVectorizer"
   ]
  },
  {
   "cell_type": "code",
   "execution_count": 23,
   "metadata": {},
   "outputs": [
    {
     "data": {
      "image/png": "[encoded data removed]",
      "text/plain": [
       "<matplotlib.figure.Figure at 0x1a1a0f55f8>"
      ]
     },
     "metadata": {},
     "output_type": "display_data"
    }
   ],
   "source": [
    "tsne = TSNEVisualizer()\n",
    "tsne.fit(x_mi_test_stem, y_test)\n",
    "tsne.poof()"
   ]
  },
  {
   "cell_type": "code",
   "execution_count": null,
   "metadata": {
    "collapsed": true
   },
   "outputs": [],
   "source": []
  }
 ],
 "metadata": {
  "kernelspec": {
   "display_name": "Python 3",
   "language": "python",
   "name": "python3"
  },
  "language_info": {
   "codemirror_mode": {
    "name": "ipython",
    "version": 3
   },
   "file_extension": ".py",
   "mimetype": "text/x-python",
   "name": "python",
   "nbconvert_exporter": "python",
   "pygments_lexer": "ipython3",
   "version": "3.6.3"
  }
 },
 "nbformat": 4,
 "nbformat_minor": 2
}
