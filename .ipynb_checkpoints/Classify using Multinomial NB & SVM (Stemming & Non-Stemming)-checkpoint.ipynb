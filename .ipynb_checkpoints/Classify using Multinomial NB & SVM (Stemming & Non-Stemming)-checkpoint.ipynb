{
 "cells": [
  {
   "cell_type": "code",
   "execution_count": 1,
   "metadata": {
    "collapsed": true
   },
   "outputs": [],
   "source": [
    "path = './zomato.csv'\n",
    "path_kamus = './kamus_alay.csv'"
   ]
  },
  {
   "cell_type": "code",
   "execution_count": 2,
   "metadata": {},
   "outputs": [
    {
     "name": "stderr",
     "output_type": "stream",
     "text": [
      "/Users/indraaristya/anaconda3/lib/python3.6/importlib/_bootstrap.py:219: RuntimeWarning: numpy.dtype size changed, may indicate binary incompatibility. Expected 96, got 88\n",
      "  return f(*args, **kwds)\n",
      "/Users/indraaristya/anaconda3/lib/python3.6/importlib/_bootstrap.py:219: RuntimeWarning: numpy.dtype size changed, may indicate binary incompatibility. Expected 96, got 88\n",
      "  return f(*args, **kwds)\n",
      "/Users/indraaristya/anaconda3/lib/python3.6/importlib/_bootstrap.py:219: RuntimeWarning: numpy.dtype size changed, may indicate binary incompatibility. Expected 96, got 88\n",
      "  return f(*args, **kwds)\n"
     ]
    }
   ],
   "source": [
    "import csv\n",
    "import os\n",
    "import glob\n",
    "import numpy as np\n",
    "import math\n",
    "from tqdm import tqdm\n",
    "#scikit learn\n",
    "from sklearn.pipeline import Pipeline\n",
    "from sklearn.metrics import accuracy_score, classification_report, confusion_matrix\n",
    "from sklearn.model_selection import GridSearchCV\n",
    "from sklearn.feature_extraction.text import CountVectorizer\n",
    "from sklearn.feature_extraction.text import TfidfTransformer\n",
    "from sklearn.feature_extraction.text import TfidfVectorizer\n",
    "from sklearn.feature_extraction.text import HashingVectorizer\n",
    "from sklearn.svm import SVC\n",
    "from sklearn.neighbors import KNeighborsClassifier\n",
    "\n",
    "#stemmer\n",
    "from Sastrawi.Stemmer.StemmerFactory import StemmerFactory\n",
    "from Sastrawi.StopWordRemover.StopWordRemoverFactory import StopWordRemoverFactory"
   ]
  },
  {
   "cell_type": "code",
   "execution_count": 3,
   "metadata": {
    "collapsed": true
   },
   "outputs": [],
   "source": [
    "def cleaning(sentence):\n",
    "    sentence = sentence.replace('\\ufeff','')\n",
    "    sentence = sentence.replace('\\n',' ')\n",
    "    sentence = sentence.replace('\\r',' ')\n",
    "    sentence = sentence.replace('\\n\\n',' ')\n",
    "    sentence = sentence.replace('\\r\\r',' ')\n",
    "    sentence = sentence.replace('.',' ')\n",
    "    sentence = sentence.replace(',',' ')\n",
    "    sentence = sentence.replace('\"',' ')\n",
    "    sentence = sentence.replace('!',' ')\n",
    "    sentence = sentence.replace('?',' ')\n",
    "    sentence = sentence.replace('/',' ')\n",
    "    sentence = sentence.replace('-',' ')\n",
    "    sentence = sentence.lstrip()\n",
    "    return sentence.lower()"
   ]
  },
  {
   "cell_type": "code",
   "execution_count": 4,
   "metadata": {
    "collapsed": true
   },
   "outputs": [],
   "source": [
    "def convert(sentences):\n",
    "    import re\n",
    "    cleanEmoticon = []\n",
    "    for sentence in sentences:\n",
    "        try:\n",
    "            highpoints = re.compile(u'([\\U00002600-\\U000027BF])|([\\U0001f300-\\U0001f64F])|([\\U0001f680-\\U0001f6FF])')\n",
    "        except re.error:\n",
    "            highpoints = re.compile(u'([\\u2600-\\u27BF])|([\\uD83C][\\uDF00-\\uDFFF])|([\\uD83D][\\uDC00-\\uDE4F])|([\\uD83D][\\uDE80-\\uDEFF])')\n",
    "    \n",
    "        cleanEmoticon.append(highpoints.sub(u'\\u25FD', sentence))\n",
    "    return cleanEmoticon"
   ]
  },
  {
   "cell_type": "code",
   "execution_count": 5,
   "metadata": {
    "collapsed": true
   },
   "outputs": [],
   "source": [
    "def preprocess(sentences): \n",
    "    factory = StopWordRemoverFactory()\n",
    "    stopword = factory.create_stop_word_remover()\n",
    "    \n",
    "    factory = StemmerFactory()\n",
    "    stemmer = factory.create_stemmer()\n",
    "    result =[]\n",
    "    for sentence in sentences:\n",
    "        result.append(stemmer.stem(stopword.remove(sentence)))\n",
    "    return result"
   ]
  },
  {
   "cell_type": "code",
   "execution_count": 6,
   "metadata": {},
   "outputs": [],
   "source": [
    "def preprocess_alay(x):\n",
    "    x_alay = np.array(x)\n",
    "    for i in tqdm(range(len(x))):\n",
    "        splitted = x[i].split()\n",
    "        for j in range(1,len(alay)):\n",
    "            for k in range(0,len(splitted)):\n",
    "                if splitted[k] == alay[j]:\n",
    "                    splitted[k] = benar[j]\n",
    "    x_alay[i] = ' '.join(str(e) for e in splitted)\n",
    "    return x_alay"
   ]
  },
  {
   "cell_type": "markdown",
   "metadata": {},
   "source": [
    "## Cleaning using Kamus Alay"
   ]
  },
  {
   "cell_type": "code",
   "execution_count": 44,
   "metadata": {
    "collapsed": true
   },
   "outputs": [],
   "source": [
    "alay = []\n",
    "benar = []\n",
    "with open(path_kamus, encoding=\"utf8\") as a:\n",
    "    b = csv.reader(a)\n",
    "    for row in b:\n",
    "        alay.append(row[0])\n",
    "        benar.append(row[1])"
   ]
  },
  {
   "cell_type": "code",
   "execution_count": 45,
   "metadata": {
    "collapsed": true
   },
   "outputs": [],
   "source": [
    "x = []\n",
    "y = []\n",
    "with open(path, encoding=\"utf8\") as a:\n",
    "    b = csv.reader(a)\n",
    "    for row in b:\n",
    "        x.append(cleaning(row[2]))\n",
    "        y.append(row[3])\n",
    "x = np.array(x)\n",
    "y = np.array(y)\n",
    "\n",
    "x_alay = np.array(x)"
   ]
  },
  {
   "cell_type": "code",
   "execution_count": 46,
   "metadata": {
    "collapsed": true
   },
   "outputs": [],
   "source": [
    "def count_word_in_class(x,y):\n",
    "    count = {}\n",
    "    count_word = {}\n",
    "    word_class = {}\n",
    "    for i in range(0, len(x)):\n",
    "        x_split = x[i].split()\n",
    "        for word in x_split:\n",
    "            w_c = word+str(\",\")+str(y[i])\n",
    "            if (w_c in count):\n",
    "                count[w_c] += 1\n",
    "            else:\n",
    "                count[w_c] = 1\n",
    "                \n",
    "            if (word in count_word):\n",
    "                count_word[word] += 1\n",
    "            else:\n",
    "                count_word[word] = 1\n",
    "                \n",
    "            if (y[i] in word_class):\n",
    "                word_class[y[i]] += 1\n",
    "            else:\n",
    "                word_class[y[i]] = 1\n",
    "    return count, count_word, word_class\n",
    "\n",
    "def count_class_in_doc(y):\n",
    "    count = {}\n",
    "    for i in range(0, len(y)):\n",
    "        if (y[i] in count):\n",
    "            count[y[i]] += 1\n",
    "        else:\n",
    "            count[y[i]] = 1\n",
    "    return count\n",
    "\n",
    "def hitung_prob(count,word,uniq):\n",
    "    return ((count + 1)/(word+uniq))"
   ]
  },
  {
   "cell_type": "code",
   "execution_count": 47,
   "metadata": {
    "collapsed": true
   },
   "outputs": [],
   "source": [
    "randomize = np.arange(len(x))\n",
    "np.random.shuffle(randomize)\n",
    "x = x[randomize]\n",
    "y = y[randomize]\n",
    "# x_alay = x_alay[randomize]"
   ]
  },
  {
   "cell_type": "code",
   "execution_count": 48,
   "metadata": {
    "collapsed": true
   },
   "outputs": [],
   "source": [
    "acc_stem = []\n",
    "acc_non_stem = []"
   ]
  },
  {
   "cell_type": "code",
   "execution_count": 49,
   "metadata": {
    "collapsed": true
   },
   "outputs": [],
   "source": [
    "def multiNB(x,y,x_test):\n",
    "    count_word_on_class, count_word, word_class = count_word_in_class(x,y)\n",
    "\n",
    "    count_class = count_class_in_doc(y)\n",
    "\n",
    "    kelaz = list(count_class.keys())\n",
    "    y_pred = []\n",
    "    for i in range(0,len(x_test)):\n",
    "        prob_kelas = {}\n",
    "        for j in count_class.keys():\n",
    "            prob_c = 1\n",
    "            x_split = x_test[i].split()\n",
    "            for k in x_split:\n",
    "                tag = k+str(',')+str(j)\n",
    "                prob_c += math.log(hitung_prob(count_word_on_class.get(tag,0),word_class.get(j),len(count_word.keys())))\n",
    "            nama = str(i)+','+str(j)\n",
    "            prob_kelas[nama] = prob_c\n",
    "        y_pred.append(kelaz[np.argmax(list(prob_kelas.values()))])\n",
    "    return y_pred"
   ]
  },
  {
   "cell_type": "code",
   "execution_count": 50,
   "metadata": {
    "collapsed": true
   },
   "outputs": [],
   "source": [
    "def svm_linear(x,y,x_test):\n",
    "    text_clf = Pipeline([\n",
    "                         ('vect', CountVectorizer()),\n",
    "                         ('tfidf', TfidfTransformer()),\n",
    "                         ('clf', SVC(kernel = 'linear')),\n",
    "    ])\n",
    "    text_clf = text_clf.fit(x, y)\n",
    "    y_pred_svm = text_clf.predict(x_test)\n",
    "    return y_pred_svm"
   ]
  },
  {
   "cell_type": "markdown",
   "metadata": {},
   "source": [
    "## Benar"
   ]
  },
  {
   "cell_type": "code",
   "execution_count": 51,
   "metadata": {},
   "outputs": [
    {
     "name": "stderr",
     "output_type": "stream",
     "text": [
      "100%|██████████| 133/133 [00:14<00:00,  9.31it/s]\n",
      "100%|██████████| 67/67 [00:07<00:00,  9.15it/s]\n",
      "100%|██████████| 133/133 [00:14<00:00,  9.40it/s]\n",
      "100%|██████████| 67/67 [00:06<00:00, 10.13it/s]\n",
      "100%|██████████| 134/134 [00:13<00:00,  9.84it/s]\n",
      "100%|██████████| 66/66 [00:07<00:00,  9.29it/s]"
     ]
    },
    {
     "name": "stdout",
     "output_type": "stream",
     "text": [
      "[71.51364390170362, 71.00859339665311, 77.00135685210311, 77.00889491934268]\n"
     ]
    },
    {
     "name": "stderr",
     "output_type": "stream",
     "text": [
      "\n"
     ]
    }
   ],
   "source": [
    "from sklearn.model_selection import KFold\n",
    "\n",
    "acc_fold_nb = []\n",
    "acc_fold_nba = []\n",
    "acc_fold_svm = []\n",
    "acc_fold_svma = []\n",
    "\n",
    "folds = 3\n",
    "kf = KFold(n_splits=folds)\n",
    "for train, test in kf.split(x):\n",
    "    x_train, x_test, y_train, y_test = x[train],x[test],y[train],y[test]\n",
    "    x_train_alay = preprocess_alay(x_train)\n",
    "    x_test_alay = preprocess_alay(x_test)\n",
    "\n",
    "    ## Multinomial Naive Bayes\n",
    "    \n",
    "    y_pred_nb = multiNB(x_train, y_train, x_test)\n",
    "    y_pred_nb_alay = multiNB(x_train_alay, y_train, x_test_alay)\n",
    "\n",
    "    acc_nb = accuracy_score(y_test, y_pred_nb)*100\n",
    "    acc_nb_alay = accuracy_score(y_test, y_pred_nb_alay)*100\n",
    "    \n",
    "    acc_fold_nb.append(acc_nb)\n",
    "    acc_fold_nba.append(acc_nb_alay)\n",
    "\n",
    "    ## SVM Linear\n",
    "    \n",
    "    y_pred_svm = svm_linear(x_train, y_train, x_test)\n",
    "    y_pred_svm_alay = svm_linear(x_train_alay, y_train, x_test_alay)\n",
    "\n",
    "    acc_svm = accuracy_score(y_test, y_pred_svm)*100\n",
    "    acc_svm_alay = accuracy_score(y_test, y_pred_svm_alay)*100\n",
    "    \n",
    "    acc_fold_svm.append(acc_svm)\n",
    "    acc_fold_svma.append(acc_svm_alay)\n",
    "    \n",
    "    ## Multinomial Naive Bayes (dengan Stemming)\n",
    "    \n",
    "    x_train = preprocess(x_train)\n",
    "    x_train_alay = preprocess(x_train_alay)\n",
    "    x_test_alay = preprocess(x_test_alay)\n",
    "    x_test = preprocess(x_test)\n",
    "    \n",
    "    y_pred_nb = multiNB(x_train, y_train, x_test)\n",
    "    y_pred_nb_alay = multiNB(x_train_alay, y_train, x_test_alay)\n",
    "\n",
    "    acc_nb = accuracy_score(y_test, y_pred_nb)*100\n",
    "    acc_nb_alay = accuracy_score(y_test, y_pred_nb_alay)*100\n",
    "    \n",
    "    acc_fold_nb_stem.append(acc_nb)\n",
    "    acc_fold_nba_stem.append(acc_nb_alay)\n",
    "    \n",
    "    ## SVM Linear (dengan Stemming)\n",
    "    \n",
    "    y_pred_svm = svm_linear(x_train, y_train, x_test)\n",
    "    y_pred_svm_alay = svm_linear(x_train_alay, y_train, x_test_alay)\n",
    "\n",
    "    acc_svm = accuracy_score(y_test, y_pred_svm)*100\n",
    "    acc_svm_alay = accuracy_score(y_test, y_pred_svm_alay)*100\n",
    "    \n",
    "    acc_fold_svm_stem.append(acc_svm)\n",
    "    acc_fold_svma_stem.append(acc_svm_alay)\n",
    "\n",
    "acc_non_stem.append(np.mean(acc_fold_nb))\n",
    "acc_non_stem.append(np.mean(acc_fold_nba))\n",
    "acc_non_stem.append(np.mean(acc_fold_svm))\n",
    "acc_non_stem.append(np.mean(acc_fold_svma))\n",
    "\n",
    "acc_stem.append(np.mean(acc_fold_nb_stem))\n",
    "acc_stem.append(np.mean(acc_fold_nba_stem))\n",
    "acc_stem.append(np.mean(acc_fold_svm_stem))\n",
    "acc_stem.append(np.mean(acc_fold_svma_stem))\n",
    "\n",
    "print(acc_non_stem)"
   ]
  },
  {
   "cell_type": "markdown",
   "metadata": {},
   "source": [
    "## Tanpa Stemming"
   ]
  },
  {
   "cell_type": "code",
   "execution_count": 40,
   "metadata": {},
   "outputs": [
    {
     "name": "stderr",
     "output_type": "stream",
     "text": [
      "100%|██████████| 133/133 [00:14<00:00,  9.32it/s]\n",
      "100%|██████████| 67/67 [00:06<00:00, 11.74it/s]\n",
      "100%|██████████| 133/133 [00:14<00:00,  9.41it/s]\n",
      "100%|██████████| 67/67 [00:06<00:00,  6.71it/s]\n",
      "100%|██████████| 134/134 [00:13<00:00,  6.68it/s]\n",
      "100%|██████████| 66/66 [00:07<00:00,  8.98it/s]\n"
     ]
    },
    {
     "name": "stdout",
     "output_type": "stream",
     "text": [
      "[77.4536408864767, 77.46117895371627, 77.99638172772501, 78.49389416553595]\n"
     ]
    }
   ],
   "source": [
    "from sklearn.model_selection import KFold\n",
    "\n",
    "acc_fold_nb = []\n",
    "acc_fold_nba = []\n",
    "acc_fold_svm = []\n",
    "acc_fold_svma = []\n",
    "\n",
    "folds = 3\n",
    "kf = KFold(n_splits=folds)\n",
    "for train, test in kf.split(x):\n",
    "    x_train, x_test, y_train, y_test = x[train],x[test],y[train],y[test]\n",
    "    x_train_alay = preprocess_alay(x_train)\n",
    "    x_test_alay = preprocess_alay(x_test)\n",
    "\n",
    "\n",
    "    count_word_on_class, count_word, word_class = count_word_in_class(x_train,y_train)\n",
    "    count_word_on_class_alay, count_word_alay, word_class_alay = count_word_in_class(x_train_alay,y_train)\n",
    "\n",
    "    count_class = count_class_in_doc(y_train)\n",
    "\n",
    "    kelaz = list(count_class.keys())\n",
    "    y_pred = []\n",
    "    for i in range(0,len(x_test)):\n",
    "        prob_kelas = {}\n",
    "        for j in count_class.keys():\n",
    "            prob_c = 1\n",
    "            x_split = x_test[i].split()\n",
    "            for k in x_split:\n",
    "                tag = k+str(',')+str(j)\n",
    "                prob_c += math.log(hitung_prob(count_word_on_class.get(tag,0),word_class.get(j),len(count_word.keys())))\n",
    "            nama = str(i)+','+str(j)\n",
    "            prob_kelas[nama] = prob_c\n",
    "        y_pred.append(kelaz[np.argmax(list(prob_kelas.values()))])\n",
    "\n",
    "    kelaz = list(count_class.keys())\n",
    "    y_pred_alay = []\n",
    "    for i in range(0,len(x_test_alay)):\n",
    "        prob_kelas = {}\n",
    "        for j in count_class.keys():\n",
    "            prob_c = 1\n",
    "            x_split = x_test_alay[i].split()\n",
    "            for k in x_split:\n",
    "                tag = k+str(',')+str(j)\n",
    "                prob_c += math.log(hitung_prob(count_word_on_class_alay.get(tag,0),word_class_alay.get(j),len(count_word_alay.keys())))\n",
    "            nama = str(i)+','+str(j)\n",
    "            prob_kelas[nama] = prob_c\n",
    "        y_pred_alay.append(kelaz[np.argmax(list(prob_kelas.values()))])\n",
    "\n",
    "\n",
    "    acc = accuracy_score(y_test, y_pred)*100\n",
    "    acc_alay = accuracy_score(y_test, y_pred_alay)*100\n",
    "    \n",
    "    acc_fold_nb.append(acc)\n",
    "    acc_fold_nba.append(acc_alay)\n",
    "\n",
    "#     acc_non_stem.append(acc)\n",
    "#     acc_non_stem.append(acc_alay)\n",
    "\n",
    "#     print(\"Multinomial Naive Bayes\")\n",
    "#     print(\"Akurasi (Pre-Processing dengan Korpus Alay): \",acc_alay)\n",
    "#     print(\"Akurasi (Pre-Processing tanpa Korpus Alay): \",acc)\n",
    "\n",
    "    # print(classification_report(y_pred, y_test))\n",
    "    # print(classification_report(y_pred_alay, y_test))\n",
    "\n",
    "    ## SVM Linear\n",
    "\n",
    "    text_clf_alay = Pipeline([\n",
    "                         ('vect', CountVectorizer()),\n",
    "                         ('tfidf', TfidfTransformer()),\n",
    "                         ('clf', SVC(kernel = 'linear')),\n",
    "    ])\n",
    "    text_clf_alay = text_clf_alay.fit(x_train_alay, y_train)\n",
    "    y_pred_svm_alay = text_clf_alay.predict(x_test_alay)\n",
    "\n",
    "    acc_alay = accuracy_score(y_test, y_pred_svm_alay)*100\n",
    "\n",
    "    text_clf = Pipeline([\n",
    "                         ('vect', CountVectorizer()),\n",
    "                         ('tfidf', TfidfTransformer()),\n",
    "                         ('clf', SVC(kernel = 'linear')),\n",
    "    ])\n",
    "    text_clf = text_clf.fit(x_train, y_train)\n",
    "    y_pred_svm = text_clf.predict(x_test)\n",
    "\n",
    "    acc = accuracy_score(y_test, y_pred_svm)*100\n",
    "    \n",
    "    acc_fold_svm.append(acc)\n",
    "    acc_fold_svma.append(acc_alay)\n",
    "\n",
    "acc_non_stem.append(np.mean(acc_fold_nb))\n",
    "acc_non_stem.append(np.mean(acc_fold_nba))\n",
    "\n",
    "acc_non_stem.append(np.mean(acc_fold_svm))\n",
    "acc_non_stem.append(np.mean(acc_fold_svma))\n",
    "\n",
    "print(acc_non_stem)\n",
    "\n",
    "\n",
    "    # print(classification_report(y_pred_svm_alay, y_test))\n",
    "\n",
    "    # print(classification_report(y_pred_svm, y_test))\n"
   ]
  },
  {
   "cell_type": "markdown",
   "metadata": {},
   "source": [
    "## Dengan Stemming"
   ]
  },
  {
   "cell_type": "code",
   "execution_count": 30,
   "metadata": {},
   "outputs": [
    {
     "name": "stderr",
     "output_type": "stream",
     "text": [
      "100%|██████████| 100/100 [00:11<00:00,  8.34it/s]\n",
      "100%|██████████| 100/100 [00:09<00:00,  9.37it/s]\n",
      "100%|██████████| 100/100 [00:09<00:00,  9.31it/s]\n",
      "100%|██████████| 100/100 [00:11<00:00,  7.48it/s]\n"
     ]
    }
   ],
   "source": [
    "acc_fold_nb = []\n",
    "acc_fold_nba = []\n",
    "acc_fold_svm = []\n",
    "acc_fold_svma = []\n",
    "\n",
    "kf = KFold(n_splits=folds)\n",
    "for train, test in kf.split(x):\n",
    "    x_train, x_test, y_train, y_test = x[train],x[test],y[train],y[test]\n",
    "    x_train_alay = preprocess_alay(x_train)\n",
    "    x_test_alay = preprocess_alay(x_test)\n",
    "\n",
    "    x_train = preprocess(x_train)\n",
    "    x_train_alay = preprocess(x_train_alay)\n",
    "    x_test_alay = preprocess(x_test_alay)\n",
    "    x_test = preprocess(x_test)\n",
    "\n",
    "    x_train = convert(x_train)\n",
    "    x_train_alay = convert(x_train_alay)\n",
    "    x_test = convert(x_test)\n",
    "    x_test_alay = convert(x_test_alay)\n",
    "\n",
    "    count_word_on_class, count_word, word_class = count_word_in_class(x_train,y_train)\n",
    "    count_word_on_class_alay, count_word_alay, word_class_alay = count_word_in_class(x_train_alay,y_train)\n",
    "\n",
    "    count_class = count_class_in_doc(y_train)\n",
    "\n",
    "    kelaz = list(count_class.keys())\n",
    "    y_pred = []\n",
    "    for i in range(0,len(x_test)):\n",
    "        prob_kelas = {}\n",
    "        for j in count_class.keys():\n",
    "            prob_c = 1\n",
    "            x_split = x_test[i].split()\n",
    "            for k in x_split:\n",
    "                tag = k+str(',')+str(j)\n",
    "                prob_c += math.log(hitung_prob(count_word_on_class.get(tag,0),word_class.get(j),len(count_word.keys())))\n",
    "            nama = str(i)+','+str(j)\n",
    "            prob_kelas[nama] = prob_c\n",
    "        y_pred.append(kelaz[np.argmax(list(prob_kelas.values()))])\n",
    "\n",
    "    kelaz = list(count_class.keys())\n",
    "    y_pred_alay = []\n",
    "    for i in range(0,len(x_test_alay)):\n",
    "        prob_kelas = {}\n",
    "        for j in count_class.keys():\n",
    "            prob_c = 1\n",
    "            x_split = x_test_alay[i].split()\n",
    "            for k in x_split:\n",
    "                tag = k+str(',')+str(j)\n",
    "                prob_c += math.log(hitung_prob(count_word_on_class_alay.get(tag,0),word_class_alay.get(j),len(count_word_alay.keys())))\n",
    "            nama = str(i)+','+str(j)\n",
    "            prob_kelas[nama] = prob_c\n",
    "        y_pred_alay.append(kelaz[np.argmax(list(prob_kelas.values()))])\n",
    "\n",
    "\n",
    "    acc = accuracy_score(y_test, y_pred)*100\n",
    "    acc_alay = accuracy_score(y_test, y_pred_alay)*100\n",
    "    \n",
    "    acc_fold_nb.append(acc)\n",
    "    acc_fold_nba.append(acc_alay)\n",
    "\n",
    "#     acc_stem.append(acc)\n",
    "#     acc_stem.append(acc_alay)\n",
    "\n",
    "#     print(\"Multinomial Naive Bayes - dengan Stemming\")\n",
    "#     print(\"Akurasi (Pre-Processing dengan Korpus Alay): \",acc_alay)\n",
    "#     print(\"Akurasi (Pre-Processing tanpa Korpus Alay): \",acc)\n",
    "\n",
    "    # print(classification_report(y_pred, y_test))\n",
    "    # print(classification_report(y_pred_alay, y_test))\n",
    "\n",
    "\n",
    "\n",
    "    text_clf_alay = Pipeline([\n",
    "                         ('vect', CountVectorizer()),\n",
    "                         ('tfidf', TfidfTransformer()),\n",
    "                         ('clf', SVC(kernel = 'linear')),\n",
    "    ])\n",
    "    text_clf_alay = text_clf_alay.fit(x_train_alay, y_train)\n",
    "    y_pred_svm_alay = text_clf_alay.predict(x_test_alay)\n",
    "\n",
    "    acc_alay = accuracy_score(y_test, y_pred_svm_alay)*100\n",
    "\n",
    "    text_clf = Pipeline([\n",
    "                         ('vect', CountVectorizer()),\n",
    "                         ('tfidf', TfidfTransformer()),\n",
    "                         ('clf', SVC(kernel = 'linear')),\n",
    "    ])\n",
    "    text_clf = text_clf.fit(x_train, y_train)\n",
    "    y_pred_svm = text_clf.predict(x_test)\n",
    "\n",
    "    acc = accuracy_score(y_test, y_pred_svm)*100\n",
    "    \n",
    "    acc_fold_svm.append(acc)\n",
    "    acc_fold_svma.append(acc_alay)\n",
    "\n",
    "#     acc_stem.append(acc)\n",
    "#     acc_stem.append(acc_alay)\n",
    "\n",
    "acc_stem.append(np.mean(acc_fold_nb))\n",
    "acc_stem.append(np.mean(acc_fold_nba))\n",
    "\n",
    "acc_stem.append(np.mean(acc_fold_svm))\n",
    "acc_stem.append(np.mean(acc_fold_svma))\n",
    "#     print(\"Support Vector Machine - Linear Kernel - dengan Stemming\")\n",
    "#     print(\"Akurasi (Pre-Processing dengan Korpus Alay): \",acc_alay)\n",
    "#     print(\"Akurasi (Pre-Processing tanpa Korpus Alay): \",acc)\n",
    "\n",
    "    # print(classification_report(y_pred_svm_alay, y_test))\n",
    "\n",
    "    # print(classification_report(y_pred_svm, y_test))"
   ]
  },
  {
   "cell_type": "code",
   "execution_count": 35,
   "metadata": {},
   "outputs": [
    {
     "name": "stdout",
     "output_type": "stream",
     "text": [
      "[75.5, 75.5, 74.0, 74.0]\n"
     ]
    }
   ],
   "source": [
    "print(acc_stem)"
   ]
  },
  {
   "cell_type": "markdown",
   "metadata": {},
   "source": [
    "## Plot tanpa Stemming"
   ]
  },
  {
   "cell_type": "code",
   "execution_count": 31,
   "metadata": {},
   "outputs": [
    {
     "data": {
      "image/png": "[encoded data removed]",
      "text/plain": [
       "<matplotlib.figure.Figure at 0x112065c18>"
      ]
     },
     "metadata": {},
     "output_type": "display_data"
    }
   ],
   "source": [
    "import matplotlib.pyplot as plt\n",
    "\n",
    "objects = ['NB', 'NB Alay','SVM', 'SVM Alay']\n",
    "y_pos = np.arange(len(objects))\n",
    "\n",
    "a = plt.bar(y_pos, acc_non_stem ,align='center', alpha=0.5)\n",
    "# a[1].set_color('r')\n",
    "plt.xticks(y_pos, objects)\n",
    "plt.ylabel('Acc')\n",
    "plt.title('Perbandingan Nilai Akurasi')\n",
    " \n",
    "plt.show()"
   ]
  },
  {
   "cell_type": "markdown",
   "metadata": {},
   "source": [
    "## Plot dengan Stemming"
   ]
  },
  {
   "cell_type": "code",
   "execution_count": 32,
   "metadata": {},
   "outputs": [
    {
     "data": {
      "image/png": "[encoded data removed]",
      "text/plain": [
       "<matplotlib.figure.Figure at 0x1136b84e0>"
      ]
     },
     "metadata": {},
     "output_type": "display_data"
    }
   ],
   "source": [
    "import matplotlib.pyplot as plt\n",
    "\n",
    "objects = ['NB', 'NB Alay','SVM', 'SVM Alay']\n",
    "y_pos = np.arange(len(objects))\n",
    " \n",
    "plt.bar(y_pos, acc_stem ,align='center', alpha=0.5)\n",
    "plt.xticks(y_pos, objects)\n",
    "plt.ylabel('Acc')\n",
    "plt.title('Perbandingan Nilai Akurasi')\n",
    " \n",
    "plt.show()"
   ]
  },
  {
   "cell_type": "markdown",
   "metadata": {},
   "source": [
    "## Gabungan Plot dengan dan tanpa Stemming"
   ]
  },
  {
   "cell_type": "code",
   "execution_count": 33,
   "metadata": {
    "collapsed": true
   },
   "outputs": [],
   "source": [
    "akurasi = []\n",
    "for i in range(len(acc_stem)):\n",
    "    akurasi.append(acc_non_stem[i])\n",
    "    akurasi.append(acc_stem[i])"
   ]
  },
  {
   "cell_type": "code",
   "execution_count": 34,
   "metadata": {},
   "outputs": [
    {
     "data": {
      "image/png": "[encoded data removed]",
      "text/plain": [
       "<matplotlib.figure.Figure at 0x1137634e0>"
      ]
     },
     "metadata": {},
     "output_type": "display_data"
    }
   ],
   "source": [
    "import matplotlib.pyplot as plt\n",
    "plt.figure(figsize=(20,8))\n",
    "objects = ['NB', 'NB Stem','NB A', 'NB A Stem','SVM', 'SVM Stem','SVM A','SVM A Stem']\n",
    "y_pos = np.arange(len(objects))\n",
    " \n",
    "bar = plt.bar(y_pos, akurasi , alpha=0.5)\n",
    "bar[1].set_color('g')\n",
    "bar[3].set_color('g')\n",
    "bar[5].set_color('g')\n",
    "bar[7].set_color('g')\n",
    "plt.xticks(y_pos, objects)\n",
    "plt.ylabel('Acc')\n",
    "plt.title('Perbandingan Nilai Akurasi')\n",
    " \n",
    "plt.show()"
   ]
  },
  {
   "cell_type": "markdown",
   "metadata": {},
   "source": [
    "## Visualize Train adn Test Data"
   ]
  },
  {
   "cell_type": "code",
   "execution_count": 252,
   "metadata": {
    "collapsed": true
   },
   "outputs": [],
   "source": [
    "from yellowbrick.text import TSNEVisualizer\n",
    "from sklearn.feature_extraction.text import TfidfVectorizer"
   ]
  },
  {
   "cell_type": "code",
   "execution_count": 253,
   "metadata": {},
   "outputs": [
    {
     "data": {
      "image/png": "[encoded data removed]",
      "text/plain": [
       "<matplotlib.figure.Figure at 0x1a1bb96b00>"
      ]
     },
     "metadata": {},
     "output_type": "display_data"
    }
   ],
   "source": [
    "# Create the visualizer and draw the vectors\n",
    "tsne = TSNEVisualizer()\n",
    "tsne.fit(x_tfidf_vect, y_train)\n",
    "tsne.poof()"
   ]
  },
  {
   "cell_type": "code",
   "execution_count": 254,
   "metadata": {},
   "outputs": [
    {
     "data": {
      "image/png": "[encoded data removed]",
      "text/plain": [
       "<matplotlib.figure.Figure at 0x1a222e8588>"
      ]
     },
     "metadata": {},
     "output_type": "display_data"
    }
   ],
   "source": [
    "tsne = TSNEVisualizer()\n",
    "tsne.fit(x_tfidf_vect_test, y_test)\n",
    "tsne.poof()"
   ]
  },
  {
   "cell_type": "markdown",
   "metadata": {},
   "source": [
    "## Visualize All Data"
   ]
  },
  {
   "cell_type": "code",
   "execution_count": 255,
   "metadata": {
    "collapsed": true
   },
   "outputs": [],
   "source": [
    "vectorizer = TfidfVectorizer()\n",
    "\n",
    "x_vect = vectorizer.fit(x)\n",
    "xxx = x_vect.transform(x)"
   ]
  },
  {
   "cell_type": "code",
   "execution_count": 256,
   "metadata": {},
   "outputs": [
    {
     "data": {
      "image/png": "[encoded data removed]",
      "text/plain": [
       "<matplotlib.figure.Figure at 0x1a110ce240>"
      ]
     },
     "metadata": {},
     "output_type": "display_data"
    }
   ],
   "source": [
    "tsne = TSNEVisualizer()\n",
    "tsne.fit(xxx, y)\n",
    "tsne.poof()"
   ]
  },
  {
   "cell_type": "code",
   "execution_count": null,
   "metadata": {
    "collapsed": true
   },
   "outputs": [],
   "source": []
  },
  {
   "cell_type": "code",
   "execution_count": 13,
   "metadata": {},
   "outputs": [
    {
     "name": "stdout",
     "output_type": "stream",
     "text": [
      "Satu:  66.25\n",
      "Nol:  81.58974358974359\n"
     ]
    }
   ],
   "source": [
    "satu = []\n",
    "nol = []\n",
    "\n",
    "for i in range(len(x_train)):\n",
    "    if (y_train[i] == '1'):\n",
    "        split = x_train[i].split()\n",
    "        satu.append(len(split))\n",
    "    else:\n",
    "        split = x_train[i].split()\n",
    "        nol.append(len(split))\n",
    "\n",
    "print(\"Satu: \",np.sum(satu)/len(satu))\n",
    "print(\"Nol: \",np.sum(nol)/len(nol))"
   ]
  },
  {
   "cell_type": "code",
   "execution_count": null,
   "metadata": {
    "collapsed": true
   },
   "outputs": [],
   "source": []
  }
 ],
 "metadata": {
  "kernelspec": {
   "display_name": "Python 3",
   "language": "python",
   "name": "python3"
  },
  "language_info": {
   "codemirror_mode": {
    "name": "ipython",
    "version": 3
   },
   "file_extension": ".py",
   "mimetype": "text/x-python",
   "name": "python",
   "nbconvert_exporter": "python",
   "pygments_lexer": "ipython3",
   "version": "3.6.3"
  }
 },
 "nbformat": 4,
 "nbformat_minor": 2
}
