{
 "cells": [
  {
   "cell_type": "code",
   "execution_count": 1,
   "metadata": {
    "collapsed": true
   },
   "outputs": [],
   "source": [
    "path = './zomato.csv'\n",
    "path_kamus = './kamus_alay.csv'"
   ]
  },
  {
   "cell_type": "code",
   "execution_count": 2,
   "metadata": {},
   "outputs": [
    {
     "name": "stderr",
     "output_type": "stream",
     "text": [
      "/Users/indraaristya/anaconda3/lib/python3.6/importlib/_bootstrap.py:219: RuntimeWarning: numpy.dtype size changed, may indicate binary incompatibility. Expected 96, got 88\n",
      "  return f(*args, **kwds)\n",
      "/Users/indraaristya/anaconda3/lib/python3.6/importlib/_bootstrap.py:219: RuntimeWarning: numpy.dtype size changed, may indicate binary incompatibility. Expected 96, got 88\n",
      "  return f(*args, **kwds)\n",
      "/Users/indraaristya/anaconda3/lib/python3.6/importlib/_bootstrap.py:219: RuntimeWarning: numpy.dtype size changed, may indicate binary incompatibility. Expected 96, got 88\n",
      "  return f(*args, **kwds)\n"
     ]
    }
   ],
   "source": [
    "import csv\n",
    "import os\n",
    "import glob\n",
    "import numpy as np\n",
    "import math\n",
    "from tqdm import tqdm\n",
    "#scikit learn\n",
    "from sklearn.pipeline import Pipeline\n",
    "from sklearn.metrics import accuracy_score, classification_report, confusion_matrix\n",
    "from sklearn.model_selection import GridSearchCV\n",
    "from sklearn.feature_extraction.text import CountVectorizer\n",
    "from sklearn.feature_extraction.text import TfidfTransformer\n",
    "from sklearn.feature_extraction.text import TfidfVectorizer\n",
    "from sklearn.feature_extraction.text import HashingVectorizer\n",
    "from sklearn.svm import SVC\n",
    "from sklearn.neighbors import KNeighborsClassifier\n",
    "\n",
    "#stemmer\n",
    "from Sastrawi.Stemmer.StemmerFactory import StemmerFactory\n",
    "from Sastrawi.StopWordRemover.StopWordRemoverFactory import StopWordRemoverFactory"
   ]
  },
  {
   "cell_type": "code",
   "execution_count": 3,
   "metadata": {
    "collapsed": true
   },
   "outputs": [],
   "source": [
    "def cleaning(sentence):\n",
    "    sentence = sentence.replace('\\ufeff','')\n",
    "    sentence = sentence.replace('\\n',' ')\n",
    "    sentence = sentence.replace('\\r',' ')\n",
    "    sentence = sentence.replace('\\n\\n',' ')\n",
    "    sentence = sentence.replace('\\r\\r',' ')\n",
    "    sentence = sentence.replace('.',' ')\n",
    "    sentence = sentence.replace(',',' ')\n",
    "    sentence = sentence.replace('\"',' ')\n",
    "    sentence = sentence.replace('!',' ')\n",
    "    sentence = sentence.replace('?',' ')\n",
    "    sentence = sentence.replace('/',' ')\n",
    "    sentence = sentence.replace('-',' ')\n",
    "    sentence = sentence.lstrip()\n",
    "    return sentence.lower()"
   ]
  },
  {
   "cell_type": "code",
   "execution_count": 4,
   "metadata": {
    "collapsed": true
   },
   "outputs": [],
   "source": [
    "def convert(sentences):\n",
    "    import re\n",
    "    cleanEmoticon = []\n",
    "    for sentence in sentences:\n",
    "        try:\n",
    "            highpoints = re.compile(u'([\\U00002600-\\U000027BF])|([\\U0001f300-\\U0001f64F])|([\\U0001f680-\\U0001f6FF])')\n",
    "        except re.error:\n",
    "            highpoints = re.compile(u'([\\u2600-\\u27BF])|([\\uD83C][\\uDF00-\\uDFFF])|([\\uD83D][\\uDC00-\\uDE4F])|([\\uD83D][\\uDE80-\\uDEFF])')\n",
    "    \n",
    "        cleanEmoticon.append(highpoints.sub(u'\\u25FD', sentence))\n",
    "    return cleanEmoticon"
   ]
  },
  {
   "cell_type": "code",
   "execution_count": 9,
   "metadata": {
    "collapsed": true
   },
   "outputs": [],
   "source": [
    "def preprocess(sentences): \n",
    "    factory = StopWordRemoverFactory()\n",
    "    stopword = factory.create_stop_word_remover()\n",
    "    \n",
    "    factory = StemmerFactory()\n",
    "    stemmer = factory.create_stemmer()\n",
    "    result =[]\n",
    "    for sentence in sentences:\n",
    "        result.append(stemmer.stem(stopword.remove(sentence)))\n",
    "    return result"
   ]
  },
  {
   "cell_type": "code",
   "execution_count": 5,
   "metadata": {
    "collapsed": true
   },
   "outputs": [],
   "source": [
    "# x = []\n",
    "# y = []\n",
    "# with open(path, encoding=\"utf8\") as a:\n",
    "#     b = csv.reader(a)\n",
    "#     for row in b:\n",
    "#         x.append(cleaning(row[2]))\n",
    "#         y.append(row[3])\n",
    "# x = np.array(x)\n",
    "# y = np.array(y)"
   ]
  },
  {
   "cell_type": "code",
   "execution_count": 6,
   "metadata": {
    "collapsed": true
   },
   "outputs": [],
   "source": [
    "# randomize = np.arange(len(x))\n",
    "# np.random.shuffle(randomize)\n",
    "# x = x[randomize]\n",
    "# y = y[randomize]"
   ]
  },
  {
   "cell_type": "code",
   "execution_count": 7,
   "metadata": {
    "collapsed": true
   },
   "outputs": [],
   "source": [
    "# x_train = x[:150]\n",
    "# y_train = y[:150]\n",
    "\n",
    "# x_test = x[150:]\n",
    "# y_test = y[150:]"
   ]
  },
  {
   "cell_type": "code",
   "execution_count": null,
   "metadata": {
    "collapsed": true
   },
   "outputs": [],
   "source": [
    "# x_train = preprocess(x_train)\n",
    "# x_test = preprocess(x_test)"
   ]
  },
  {
   "cell_type": "code",
   "execution_count": null,
   "metadata": {
    "collapsed": true
   },
   "outputs": [],
   "source": [
    "# x_train = convert(x_train)\n",
    "# x_test = convert(x_test)"
   ]
  },
  {
   "cell_type": "markdown",
   "metadata": {},
   "source": [
    "## Cleaning using Kamus Alay"
   ]
  },
  {
   "cell_type": "code",
   "execution_count": 39,
   "metadata": {},
   "outputs": [],
   "source": [
    "alay = []\n",
    "benar = []\n",
    "with open(path_kamus, encoding=\"utf8\") as a:\n",
    "    b = csv.reader(a)\n",
    "    for row in b:\n",
    "        alay.append(row[0])\n",
    "        benar.append(row[1])"
   ]
  },
  {
   "cell_type": "code",
   "execution_count": 40,
   "metadata": {},
   "outputs": [],
   "source": [
    "x = []\n",
    "y = []\n",
    "with open(path, encoding=\"utf8\") as a:\n",
    "    b = csv.reader(a)\n",
    "    for row in b:\n",
    "        x.append(cleaning(row[2]))\n",
    "        y.append(row[3])\n",
    "x = np.array(x)\n",
    "y = np.array(y)\n",
    "\n",
    "x_alay = np.array(x)"
   ]
  },
  {
   "cell_type": "code",
   "execution_count": 41,
   "metadata": {},
   "outputs": [
    {
     "name": "stderr",
     "output_type": "stream",
     "text": [
      "100%|██████████| 200/200 [00:39<00:00,  5.08it/s]\n"
     ]
    }
   ],
   "source": [
    "for i in tqdm(range(len(x))):\n",
    "    splitted = x[i].split()\n",
    "    for j in range(1,len(alay)):\n",
    "        for k in range(0,len(splitted)):\n",
    "            if splitted[k] == alay[j]:\n",
    "                splitted[k] = benar[j]\n",
    "    x_alay[i] = ' '.join(str(e) for e in splitted)"
   ]
  },
  {
   "cell_type": "code",
   "execution_count": 42,
   "metadata": {},
   "outputs": [],
   "source": [
    "def count_word_in_class(x,y):\n",
    "    count = {}\n",
    "    count_word = {}\n",
    "    word_class = {}\n",
    "    for i in range(0, len(x)):\n",
    "        x_split = x[i].split()\n",
    "        for word in x_split:\n",
    "            w_c = word+str(\",\")+str(y[i])\n",
    "            if (w_c in count):\n",
    "                count[w_c] += 1\n",
    "            else:\n",
    "                count[w_c] = 1\n",
    "                \n",
    "            if (word in count_word):\n",
    "                count_word[word] += 1\n",
    "            else:\n",
    "                count_word[word] = 1\n",
    "                \n",
    "            if (y[i] in word_class):\n",
    "                word_class[y[i]] += 1\n",
    "            else:\n",
    "                word_class[y[i]] = 1\n",
    "    return count, count_word, word_class\n",
    "\n",
    "def count_class_in_doc(y):\n",
    "    count = {}\n",
    "    for i in range(0, len(y)):\n",
    "        if (y[i] in count):\n",
    "            count[y[i]] += 1\n",
    "        else:\n",
    "            count[y[i]] = 1\n",
    "    return count\n",
    "\n",
    "def hitung_prob(count,word,uniq):\n",
    "    return ((count + 1)/(word+uniq))"
   ]
  },
  {
   "cell_type": "code",
   "execution_count": 43,
   "metadata": {
    "collapsed": true
   },
   "outputs": [],
   "source": [
    "randomize = np.arange(len(x))\n",
    "np.random.shuffle(randomize)\n",
    "x = x[randomize]\n",
    "y = y[randomize]\n",
    "x_alay = x_alay[randomize]"
   ]
  },
  {
   "cell_type": "code",
   "execution_count": 44,
   "metadata": {
    "collapsed": true
   },
   "outputs": [],
   "source": [
    "x_train = x[:150]\n",
    "y_train = y[:150]\n",
    "\n",
    "x_train_alay = x_alay[:150]\n",
    "x_test_alay = x_alay[150:]\n",
    "\n",
    "x_test = x[150:]\n",
    "y_test = y[150:]"
   ]
  },
  {
   "cell_type": "code",
   "execution_count": 45,
   "metadata": {
    "collapsed": true
   },
   "outputs": [],
   "source": [
    "acc_stem = []\n",
    "acc_non_stem = []"
   ]
  },
  {
   "cell_type": "code",
   "execution_count": 47,
   "metadata": {
    "collapsed": true
   },
   "outputs": [],
   "source": [
    "x_train = convert(x_train)\n",
    "x_train_alay = convert(x_train_alay)\n",
    "x_test = convert(x_test)\n",
    "x_test_alay = convert(x_test_alay)"
   ]
  },
  {
   "cell_type": "markdown",
   "metadata": {},
   "source": [
    "## Multinomial Naive Bayes"
   ]
  },
  {
   "cell_type": "code",
   "execution_count": 48,
   "metadata": {
    "collapsed": true
   },
   "outputs": [],
   "source": [
    "count_word_on_class, count_word, word_class = count_word_in_class(x_train,y_train)\n",
    "count_word_on_class_alay, count_word_alay, word_class_alay = count_word_in_class(x_train_alay,y_train)"
   ]
  },
  {
   "cell_type": "code",
   "execution_count": 49,
   "metadata": {
    "collapsed": true
   },
   "outputs": [],
   "source": [
    "count_class = count_class_in_doc(y_train)\n",
    "\n",
    "kelaz = list(count_class.keys())\n",
    "y_pred = []\n",
    "for i in range(0,len(x_test)):\n",
    "    prob_kelas = {}\n",
    "    for j in count_class.keys():\n",
    "        prob_c = 1\n",
    "        x_split = x_test[i].split()\n",
    "        for k in x_split:\n",
    "            tag = k+str(',')+str(j)\n",
    "            prob_c += math.log(hitung_prob(count_word_on_class.get(tag,0),word_class.get(j),len(count_word.keys())))\n",
    "        nama = str(i)+','+str(j)\n",
    "        prob_kelas[nama] = prob_c\n",
    "    y_pred.append(kelaz[np.argmax(list(prob_kelas.values()))])\n",
    "\n",
    "kelaz = list(count_class.keys())\n",
    "y_pred_alay = []\n",
    "for i in range(0,len(x_test_alay)):\n",
    "    prob_kelas = {}\n",
    "    for j in count_class.keys():\n",
    "        prob_c = 1\n",
    "        x_split = x_test_alay[i].split()\n",
    "        for k in x_split:\n",
    "            tag = k+str(',')+str(j)\n",
    "            prob_c += math.log(hitung_prob(count_word_on_class_alay.get(tag,0),word_class_alay.get(j),len(count_word_alay.keys())))\n",
    "        nama = str(i)+','+str(j)\n",
    "        prob_kelas[nama] = prob_c\n",
    "    y_pred_alay.append(kelaz[np.argmax(list(prob_kelas.values()))])\n",
    "    "
   ]
  },
  {
   "cell_type": "code",
   "execution_count": 50,
   "metadata": {},
   "outputs": [
    {
     "name": "stdout",
     "output_type": "stream",
     "text": [
      "Akurasi (Pre-Processing dengan Korpus Alay):  72.0\n",
      "Akurasi (Pre-Processing tanpa Korpus Alay):  68.0\n"
     ]
    }
   ],
   "source": [
    "acc = accuracy_score(y_test, y_pred)*100\n",
    "acc_alay = accuracy_score(y_test, y_pred_alay)*100\n",
    "\n",
    "acc_non_stem.append(acc)\n",
    "acc_non_stem.append(acc_alay)\n",
    "\n",
    "print(\"Akurasi (Pre-Processing dengan Korpus Alay): \",acc_alay)\n",
    "print(\"Akurasi (Pre-Processing tanpa Korpus Alay): \",acc)"
   ]
  },
  {
   "cell_type": "code",
   "execution_count": 51,
   "metadata": {},
   "outputs": [],
   "source": [
    "# print(classification_report(y_pred, y_test))\n",
    "# print(classification_report(y_pred_alay, y_test))"
   ]
  },
  {
   "cell_type": "markdown",
   "metadata": {},
   "source": [
    "## SVM Linear"
   ]
  },
  {
   "cell_type": "code",
   "execution_count": 52,
   "metadata": {},
   "outputs": [
    {
     "name": "stdout",
     "output_type": "stream",
     "text": [
      "Akurasi (Pre-Processing dengan Korpus Alay):  78.0\n",
      "Akurasi (Pre-Processing tanpa Korpus Alay):  74.0\n"
     ]
    }
   ],
   "source": [
    "text_clf_alay = Pipeline([\n",
    "                     ('vect', CountVectorizer()),\n",
    "                     ('tfidf', TfidfTransformer()),\n",
    "                     ('clf', SVC(kernel = 'linear')),\n",
    "])\n",
    "text_clf_alay = text_clf_alay.fit(x_train_alay, y_train)\n",
    "y_pred_svm_alay = text_clf_alay.predict(x_test_alay)\n",
    "\n",
    "acc_alay = accuracy_score(y_test, y_pred_svm_alay)*100\n",
    "\n",
    "text_clf = Pipeline([\n",
    "                     ('vect', CountVectorizer()),\n",
    "                     ('tfidf', TfidfTransformer()),\n",
    "                     ('clf', SVC(kernel = 'linear')),\n",
    "])\n",
    "text_clf = text_clf.fit(x_train, y_train)\n",
    "y_pred_svm = text_clf.predict(x_test)\n",
    "\n",
    "acc = accuracy_score(y_test, y_pred_svm)*100\n",
    "\n",
    "acc_non_stem.append(acc)\n",
    "acc_non_stem.append(acc_alay)\n",
    "\n",
    "print(\"Akurasi (Pre-Processing dengan Korpus Alay): \",acc_alay)\n",
    "print(\"Akurasi (Pre-Processing tanpa Korpus Alay): \",acc)"
   ]
  },
  {
   "cell_type": "code",
   "execution_count": 53,
   "metadata": {},
   "outputs": [],
   "source": [
    "# print(classification_report(y_pred_svm_alay, y_test))"
   ]
  },
  {
   "cell_type": "code",
   "execution_count": 54,
   "metadata": {},
   "outputs": [],
   "source": [
    "# print(classification_report(y_pred_svm, y_test))"
   ]
  },
  {
   "cell_type": "markdown",
   "metadata": {},
   "source": [
    "## kNN "
   ]
  },
  {
   "cell_type": "code",
   "execution_count": 55,
   "metadata": {},
   "outputs": [
    {
     "name": "stdout",
     "output_type": "stream",
     "text": [
      "Akurasi (Pre-Processing dengan Korpus Alay):  64.0\n",
      "Akurasi (Pre-Processing tanpa Korpus Alay):  64.0\n"
     ]
    }
   ],
   "source": [
    "text_clf_alay = Pipeline([\n",
    "                     ('vect', CountVectorizer()),\n",
    "                     ('tfidf', TfidfTransformer()),\n",
    "                     ('clf', KNeighborsClassifier(n_neighbors=1)),\n",
    "])\n",
    "text_clf_alay = text_clf_alay.fit(x_train_alay, y_train)\n",
    "y_pred_knn_alay = text_clf_alay.predict(x_test_alay)\n",
    "\n",
    "acc_alay = accuracy_score(y_test, y_pred_knn_alay)*100\n",
    "\n",
    "text_clf = Pipeline([\n",
    "                     ('vect', CountVectorizer()),\n",
    "                     ('tfidf', TfidfTransformer()),\n",
    "                     ('clf', KNeighborsClassifier(n_neighbors=1)),\n",
    "])\n",
    "text_clf = text_clf.fit(x_train, y_train)\n",
    "y_pred_knn = text_clf.predict(x_test)\n",
    "\n",
    "acc = accuracy_score(y_test, y_pred_knn)*100\n",
    "\n",
    "acc_non_stem.append(acc)\n",
    "acc_non_stem.append(acc_alay)\n",
    "\n",
    "print(\"Akurasi (Pre-Processing dengan Korpus Alay): \",acc_alay)\n",
    "print(\"Akurasi (Pre-Processing tanpa Korpus Alay): \",acc)"
   ]
  },
  {
   "cell_type": "code",
   "execution_count": null,
   "metadata": {},
   "outputs": [],
   "source": [
    "# print(classification_report(y_pred_knn, y_test))\n",
    "# print(classification_report(y_pred_knn_alay, y_test))"
   ]
  },
  {
   "cell_type": "markdown",
   "metadata": {},
   "source": [
    "## Multinomial Naive Bayes, SVM Linear, kNN dengan preprocessing Kamus Alay"
   ]
  },
  {
   "cell_type": "code",
   "execution_count": 57,
   "metadata": {},
   "outputs": [
    {
     "name": "stdout",
     "output_type": "stream",
     "text": [
      "Akurasi (Pre-Processing dengan Korpus Alay):  72.0\n",
      "Akurasi (Pre-Processing tanpa Korpus Alay):  76.0\n",
      "Akurasi (Pre-Processing dengan Korpus Alay):  82.0\n",
      "Akurasi (Pre-Processing tanpa Korpus Alay):  80.0\n",
      "Akurasi (Pre-Processing dengan Korpus Alay):  72.0\n",
      "Akurasi (Pre-Processing tanpa Korpus Alay):  66.0\n"
     ]
    }
   ],
   "source": [
    "x_train = preprocess(x_train)\n",
    "x_train_alay = preprocess(x_train_alay)\n",
    "x_test_alay = preprocess(x_test_alay)\n",
    "x_test = preprocess(x_test)\n",
    "\n",
    "x_train = convert(x_train)\n",
    "x_train_alay = convert(x_train_alay)\n",
    "x_test = convert(x_test)\n",
    "x_test_alay = convert(x_test_alay)\n",
    "\n",
    "count_word_on_class, count_word, word_class = count_word_in_class(x_train,y_train)\n",
    "count_word_on_class_alay, count_word_alay, word_class_alay = count_word_in_class(x_train_alay,y_train)\n",
    "\n",
    "count_class = count_class_in_doc(y_train)\n",
    "\n",
    "kelaz = list(count_class.keys())\n",
    "y_pred = []\n",
    "for i in range(0,len(x_test)):\n",
    "    prob_kelas = {}\n",
    "    for j in count_class.keys():\n",
    "        prob_c = 1\n",
    "        x_split = x_test[i].split()\n",
    "        for k in x_split:\n",
    "            tag = k+str(',')+str(j)\n",
    "            prob_c += math.log(hitung_prob(count_word_on_class.get(tag,0),word_class.get(j),len(count_word.keys())))\n",
    "        nama = str(i)+','+str(j)\n",
    "        prob_kelas[nama] = prob_c\n",
    "    y_pred.append(kelaz[np.argmax(list(prob_kelas.values()))])\n",
    "\n",
    "kelaz = list(count_class.keys())\n",
    "y_pred_alay = []\n",
    "for i in range(0,len(x_test_alay)):\n",
    "    prob_kelas = {}\n",
    "    for j in count_class.keys():\n",
    "        prob_c = 1\n",
    "        x_split = x_test_alay[i].split()\n",
    "        for k in x_split:\n",
    "            tag = k+str(',')+str(j)\n",
    "            prob_c += math.log(hitung_prob(count_word_on_class_alay.get(tag,0),word_class_alay.get(j),len(count_word_alay.keys())))\n",
    "        nama = str(i)+','+str(j)\n",
    "        prob_kelas[nama] = prob_c\n",
    "    y_pred_alay.append(kelaz[np.argmax(list(prob_kelas.values()))])\n",
    "    \n",
    "\n",
    "acc = accuracy_score(y_test, y_pred)*100\n",
    "acc_alay = accuracy_score(y_test, y_pred_alay)*100\n",
    "\n",
    "acc_stem.append(acc)\n",
    "acc_stem.append(acc_alay)\n",
    "\n",
    "print(\"Akurasi (Pre-Processing dengan Korpus Alay): \",acc_alay)\n",
    "print(\"Akurasi (Pre-Processing tanpa Korpus Alay): \",acc)\n",
    "\n",
    "# print(classification_report(y_pred, y_test))\n",
    "# print(classification_report(y_pred_alay, y_test))\n",
    "\n",
    "\n",
    "\n",
    "text_clf_alay = Pipeline([\n",
    "                     ('vect', CountVectorizer()),\n",
    "                     ('tfidf', TfidfTransformer()),\n",
    "                     ('clf', SVC(kernel = 'linear')),\n",
    "])\n",
    "text_clf_alay = text_clf_alay.fit(x_train_alay, y_train)\n",
    "y_pred_svm_alay = text_clf_alay.predict(x_test_alay)\n",
    "\n",
    "acc_alay = accuracy_score(y_test, y_pred_svm_alay)*100\n",
    "\n",
    "text_clf = Pipeline([\n",
    "                     ('vect', CountVectorizer()),\n",
    "                     ('tfidf', TfidfTransformer()),\n",
    "                     ('clf', SVC(kernel = 'linear')),\n",
    "])\n",
    "text_clf = text_clf.fit(x_train, y_train)\n",
    "y_pred_svm = text_clf.predict(x_test)\n",
    "\n",
    "acc = accuracy_score(y_test, y_pred_svm)*100\n",
    "\n",
    "acc_stem.append(acc)\n",
    "acc_stem.append(acc_alay)\n",
    "\n",
    "print(\"Akurasi (Pre-Processing dengan Korpus Alay): \",acc_alay)\n",
    "print(\"Akurasi (Pre-Processing tanpa Korpus Alay): \",acc)\n",
    "\n",
    "# print(classification_report(y_pred_svm_alay, y_test))\n",
    "\n",
    "# print(classification_report(y_pred_svm, y_test))\n",
    "\n",
    "\n",
    "\n",
    "text_clf_alay = Pipeline([\n",
    "                     ('vect', CountVectorizer()),\n",
    "                     ('tfidf', TfidfTransformer()),\n",
    "                     ('clf', KNeighborsClassifier(n_neighbors=1)),\n",
    "])\n",
    "text_clf_alay = text_clf_alay.fit(x_train_alay, y_train)\n",
    "y_pred_knn_alay = text_clf_alay.predict(x_test_alay)\n",
    "\n",
    "acc_alay = accuracy_score(y_test, y_pred_knn_alay)*100\n",
    "\n",
    "text_clf = Pipeline([\n",
    "                     ('vect', CountVectorizer()),\n",
    "                     ('tfidf', TfidfTransformer()),\n",
    "                     ('clf', KNeighborsClassifier(n_neighbors=1)),\n",
    "])\n",
    "text_clf = text_clf.fit(x_train, y_train)\n",
    "y_pred_knn = text_clf.predict(x_test)\n",
    "\n",
    "acc = accuracy_score(y_test, y_pred_knn)*100\n",
    "\n",
    "acc_stem.append(acc)\n",
    "acc_stem.append(acc_alay)\n",
    "\n",
    "print(\"Akurasi (Pre-Processing dengan Korpus Alay): \",acc_alay)\n",
    "print(\"Akurasi (Pre-Processing tanpa Korpus Alay): \",acc)\n",
    "\n",
    "# print(classification_report(y_pred_knn, y_test))\n",
    "# print(classification_report(y_pred_knn_alay, y_test))"
   ]
  },
  {
   "cell_type": "markdown",
   "metadata": {},
   "source": [
    "## Plot tanpa Stemming"
   ]
  },
  {
   "cell_type": "code",
   "execution_count": 64,
   "metadata": {},
   "outputs": [
    {
     "data": {
      "image/png": "[encoded data removed]",
      "text/plain": [
       "<matplotlib.figure.Figure at 0x1a11c37cc0>"
      ]
     },
     "metadata": {},
     "output_type": "display_data"
    }
   ],
   "source": [
    "import matplotlib.pyplot as plt\n",
    "\n",
    "objects = ['NB', 'NB Alay','SVM', 'SVM Alay','kNN', 'kNN Alay']\n",
    "y_pos = np.arange(len(objects))\n",
    "\n",
    "a = plt.bar(y_pos, acc_non_stem ,align='center', alpha=0.5)\n",
    "# a[1].set_color('r')\n",
    "plt.xticks(y_pos, objects)\n",
    "plt.ylabel('Acc')\n",
    "plt.title('Perbandingan Nilai Akurasi')\n",
    " \n",
    "plt.show()"
   ]
  },
  {
   "cell_type": "markdown",
   "metadata": {},
   "source": [
    "## Plot dengan Stemming"
   ]
  },
  {
   "cell_type": "code",
   "execution_count": 58,
   "metadata": {},
   "outputs": [
    {
     "data": {
      "image/png": "[encoded data removed]",
      "text/plain": [
       "<matplotlib.figure.Figure at 0x1a12b56860>"
      ]
     },
     "metadata": {},
     "output_type": "display_data"
    }
   ],
   "source": [
    "import matplotlib.pyplot as plt\n",
    "\n",
    "objects = ['NB', 'NB Alay','SVM', 'SVM Alay','kNN', 'kNN Alay']\n",
    "y_pos = np.arange(len(objects))\n",
    " \n",
    "plt.bar(y_pos, acc_stem ,align='center', alpha=0.5)\n",
    "plt.xticks(y_pos, objects)\n",
    "plt.ylabel('Acc')\n",
    "plt.title('Perbandingan Nilai Akurasi')\n",
    " \n",
    "plt.show()"
   ]
  },
  {
   "cell_type": "markdown",
   "metadata": {},
   "source": [
    "## Gabungan Plot dengan dan tanpa Stemming"
   ]
  },
  {
   "cell_type": "code",
   "execution_count": 66,
   "metadata": {},
   "outputs": [],
   "source": [
    "akurasi = []\n",
    "for i in range(len(acc_stem)):\n",
    "    akurasi.append(acc_non_stem[i])\n",
    "    akurasi.append(acc_stem[i])"
   ]
  },
  {
   "cell_type": "code",
   "execution_count": 77,
   "metadata": {},
   "outputs": [
    {
     "data": {
      "image/png": "[encoded data removed]",
      "text/plain": [
       "<matplotlib.figure.Figure at 0x1a15240320>"
      ]
     },
     "metadata": {},
     "output_type": "display_data"
    }
   ],
   "source": [
    "import matplotlib.pyplot as plt\n",
    "plt.figure(figsize=(20,8))\n",
    "objects = ['NB', 'NB Stem','NB A', 'NB A Stem','SVM', 'SVM Stem','SVM A','SVM A Stem','kNN', 'kNN Stem','kNN A', 'kNN A Stem']\n",
    "y_pos = np.arange(len(objects))\n",
    " \n",
    "bar = plt.bar(y_pos, akurasi , alpha=0.5)\n",
    "bar[1].set_color('g')\n",
    "bar[3].set_color('g')\n",
    "bar[5].set_color('g')\n",
    "bar[7].set_color('g')\n",
    "bar[9].set_color('g')\n",
    "bar[11].set_color('g')\n",
    "plt.xticks(y_pos, objects)\n",
    "plt.ylabel('Acc')\n",
    "plt.title('Perbandingan Nilai Akurasi')\n",
    " \n",
    "plt.show()"
   ]
  },
  {
   "cell_type": "markdown",
   "metadata": {},
   "source": [
    "## Visualize Train adn Test Data"
   ]
  },
  {
   "cell_type": "code",
   "execution_count": 252,
   "metadata": {
    "collapsed": true
   },
   "outputs": [],
   "source": [
    "from yellowbrick.text import TSNEVisualizer\n",
    "from sklearn.feature_extraction.text import TfidfVectorizer"
   ]
  },
  {
   "cell_type": "code",
   "execution_count": 253,
   "metadata": {},
   "outputs": [
    {
     "data": {
      "image/png": "[encoded data removed]",
      "text/plain": [
       "<matplotlib.figure.Figure at 0x1a1bb96b00>"
      ]
     },
     "metadata": {},
     "output_type": "display_data"
    }
   ],
   "source": [
    "# Create the visualizer and draw the vectors\n",
    "tsne = TSNEVisualizer()\n",
    "tsne.fit(x_tfidf_vect, y_train)\n",
    "tsne.poof()"
   ]
  },
  {
   "cell_type": "code",
   "execution_count": 254,
   "metadata": {},
   "outputs": [
    {
     "data": {
      "image/png": "[encoded data removed]",
      "text/plain": [
       "<matplotlib.figure.Figure at 0x1a222e8588>"
      ]
     },
     "metadata": {},
     "output_type": "display_data"
    }
   ],
   "source": [
    "tsne = TSNEVisualizer()\n",
    "tsne.fit(x_tfidf_vect_test, y_test)\n",
    "tsne.poof()"
   ]
  },
  {
   "cell_type": "markdown",
   "metadata": {},
   "source": [
    "## Visualize All Data"
   ]
  },
  {
   "cell_type": "code",
   "execution_count": 255,
   "metadata": {
    "collapsed": true
   },
   "outputs": [],
   "source": [
    "vectorizer = TfidfVectorizer()\n",
    "\n",
    "x_vect = vectorizer.fit(x)\n",
    "xxx = x_vect.transform(x)"
   ]
  },
  {
   "cell_type": "code",
   "execution_count": 256,
   "metadata": {},
   "outputs": [
    {
     "data": {
      "image/png": "[encoded data removed]",
      "text/plain": [
       "<matplotlib.figure.Figure at 0x1a110ce240>"
      ]
     },
     "metadata": {},
     "output_type": "display_data"
    }
   ],
   "source": [
    "tsne = TSNEVisualizer()\n",
    "tsne.fit(xxx, y)\n",
    "tsne.poof()"
   ]
  },
  {
   "cell_type": "code",
   "execution_count": null,
   "metadata": {
    "collapsed": true
   },
   "outputs": [],
   "source": []
  },
  {
   "cell_type": "code",
   "execution_count": 13,
   "metadata": {},
   "outputs": [
    {
     "name": "stdout",
     "output_type": "stream",
     "text": [
      "Satu:  66.25\n",
      "Nol:  81.58974358974359\n"
     ]
    }
   ],
   "source": [
    "satu = []\n",
    "nol = []\n",
    "\n",
    "for i in range(len(x_train)):\n",
    "    if (y_train[i] == '1'):\n",
    "        split = x_train[i].split()\n",
    "        satu.append(len(split))\n",
    "    else:\n",
    "        split = x_train[i].split()\n",
    "        nol.append(len(split))\n",
    "\n",
    "print(\"Satu: \",np.sum(satu)/len(satu))\n",
    "print(\"Nol: \",np.sum(nol)/len(nol))"
   ]
  },
  {
   "cell_type": "code",
   "execution_count": null,
   "metadata": {
    "collapsed": true
   },
   "outputs": [],
   "source": []
  }
 ],
 "metadata": {
  "kernelspec": {
   "display_name": "Python 3",
   "language": "python",
   "name": "python3"
  },
  "language_info": {
   "codemirror_mode": {
    "name": "ipython",
    "version": 3
   },
   "file_extension": ".py",
   "mimetype": "text/x-python",
   "name": "python",
   "nbconvert_exporter": "python",
   "pygments_lexer": "ipython3",
   "version": "3.6.3"
  }
 },
 "nbformat": 4,
 "nbformat_minor": 2
}
