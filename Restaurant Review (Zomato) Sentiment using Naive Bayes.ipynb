{
 "cells": [
  {
   "cell_type": "code",
   "execution_count": 1,
   "metadata": {
    "collapsed": true
   },
   "outputs": [],
   "source": [
    "path = './zomato.csv'"
   ]
  },
  {
   "cell_type": "code",
   "execution_count": 2,
   "metadata": {},
   "outputs": [
    {
     "name": "stderr",
     "output_type": "stream",
     "text": [
      "/Users/indraaristya/anaconda3/lib/python3.6/importlib/_bootstrap.py:219: RuntimeWarning: numpy.dtype size changed, may indicate binary incompatibility. Expected 96, got 88\n",
      "  return f(*args, **kwds)\n",
      "/Users/indraaristya/anaconda3/lib/python3.6/importlib/_bootstrap.py:219: RuntimeWarning: numpy.dtype size changed, may indicate binary incompatibility. Expected 96, got 88\n",
      "  return f(*args, **kwds)\n",
      "/Users/indraaristya/anaconda3/lib/python3.6/importlib/_bootstrap.py:219: RuntimeWarning: numpy.dtype size changed, may indicate binary incompatibility. Expected 96, got 88\n",
      "  return f(*args, **kwds)\n",
      "/Users/indraaristya/anaconda3/lib/python3.6/importlib/_bootstrap.py:219: RuntimeWarning: numpy.dtype size changed, may indicate binary incompatibility. Expected 96, got 88\n",
      "  return f(*args, **kwds)\n"
     ]
    }
   ],
   "source": [
    "import csv\n",
    "import os\n",
    "import glob\n",
    "import numpy as np\n",
    "import math\n",
    "from sklearn.metrics import accuracy_score, classification_report"
   ]
  },
  {
   "cell_type": "code",
   "execution_count": 3,
   "metadata": {
    "collapsed": true
   },
   "outputs": [],
   "source": [
    "def convert(sentence):\n",
    "    import re\n",
    "    try:\n",
    "        highpoints = re.compile(u'([\\U00002600-\\U000027BF])|([\\U0001f300-\\U0001f64F])|([\\U0001f680-\\U0001f6FF])')\n",
    "    except re.error:\n",
    "        highpoints = re.compile(u'([\\u2600-\\u27BF])|([\\uD83C][\\uDF00-\\uDFFF])|([\\uD83D][\\uDC00-\\uDE4F])|([\\uD83D][\\uDE80-\\uDEFF])')\n",
    "\n",
    "    cleanEmoticon = highpoints.sub(u'\\u25FD', sentence)\n",
    "    return cleanEmoticon\n",
    "\n",
    "def cleaning(sentence):\n",
    "    sentence = sentence.replace('\\ufeff','')\n",
    "    sentence = sentence.replace('\\n',' ')\n",
    "    sentence = sentence.replace('\\r',' ')\n",
    "    sentence = sentence.replace('\\n\\n',' ')\n",
    "    sentence = sentence.replace('\\r\\r',' ')\n",
    "    sentence = sentence.replace('.',' ')\n",
    "    sentence = sentence.replace(',',' ')\n",
    "    sentence = sentence.replace('\"',' ')\n",
    "    sentence = sentence.replace('!',' ')\n",
    "    sentence = sentence.replace('?',' ')\n",
    "    sentence = sentence.replace('/',' ')\n",
    "    sentence = sentence.replace('-',' ')\n",
    "    sentence = sentence.lstrip()\n",
    "    return convert(sentence.lower())\n",
    "\n",
    "\n",
    "def count_word_in_class(x,y):\n",
    "    count = {}\n",
    "    count_word = {}\n",
    "    word_class = {}\n",
    "    for i in range(0, len(x)):\n",
    "        x_split = x[i].split()\n",
    "        for word in x_split:\n",
    "            w_c = word+str(\",\")+str(y[i])\n",
    "            if (w_c in count):\n",
    "                count[w_c] += 1\n",
    "            else:\n",
    "                count[w_c] = 1\n",
    "                \n",
    "            if (word in count_word):\n",
    "                count_word[word] += 1\n",
    "            else:\n",
    "                count_word[word] = 1\n",
    "                \n",
    "            if (y[i] in word_class):\n",
    "                word_class[y[i]] += 1\n",
    "            else:\n",
    "                word_class[y[i]] = 1\n",
    "    return count, count_word, word_class\n",
    "\n",
    "def count_class_in_doc(y):\n",
    "    count = {}\n",
    "    for i in range(0, len(y)):\n",
    "        if (y[i] in count):\n",
    "            count[y[i]] += 1\n",
    "        else:\n",
    "            count[y[i]] = 1\n",
    "    return count\n",
    "\n",
    "def hitung_prob(count,word,uniq):\n",
    "    return ((count + 1)/(word+uniq))"
   ]
  },
  {
   "cell_type": "code",
   "execution_count": 4,
   "metadata": {
    "collapsed": true
   },
   "outputs": [],
   "source": [
    "x = []\n",
    "y = []\n",
    "with open(path) as a:\n",
    "    b = csv.reader(a)\n",
    "    for row in b:\n",
    "        x.append(cleaning(row[2]))\n",
    "        y.append(row[3])\n",
    "x = np.array(x)\n",
    "y = np.array(y)"
   ]
  },
  {
   "cell_type": "code",
   "execution_count": 5,
   "metadata": {
    "collapsed": true
   },
   "outputs": [],
   "source": [
    "randomize = np.arange(len(x))\n",
    "np.random.shuffle(randomize)\n",
    "x = x[randomize]\n",
    "y = y[randomize]"
   ]
  },
  {
   "cell_type": "code",
   "execution_count": 6,
   "metadata": {
    "collapsed": true
   },
   "outputs": [],
   "source": [
    "x_train = x[:160]\n",
    "y_train = y[:160]\n",
    "\n",
    "x_test = x[160:]\n",
    "y_test = y[160:]"
   ]
  },
  {
   "cell_type": "code",
   "execution_count": 7,
   "metadata": {
    "collapsed": true
   },
   "outputs": [],
   "source": [
    "count_word_on_class, count_word, word_class = count_word_in_class(x_train,y_train)"
   ]
  },
  {
   "cell_type": "code",
   "execution_count": 8,
   "metadata": {
    "collapsed": true
   },
   "outputs": [],
   "source": [
    "count_class = count_class_in_doc(y_train)"
   ]
  },
  {
   "cell_type": "code",
   "execution_count": 9,
   "metadata": {
    "collapsed": true
   },
   "outputs": [],
   "source": [
    "kelaz = list(count_class.keys())\n",
    "y_pred = []\n",
    "for i in range(0,len(x_test)):\n",
    "    prob_kelas = {}\n",
    "    for j in count_class.keys():\n",
    "        prob_c = 1\n",
    "        x_split = x_test[i].split()\n",
    "        for k in x_split:\n",
    "            tag = k+str(',')+str(j)\n",
    "            prob_c += math.log(hitung_prob(count_word_on_class.get(tag,0),word_class.get(j),len(count_word.keys())))\n",
    "        nama = str(i)+','+str(j)\n",
    "        prob_kelas[nama] = prob_c\n",
    "    y_pred.append(kelaz[np.argmax(list(prob_kelas.values()))])\n",
    "    "
   ]
  },
  {
   "cell_type": "code",
   "execution_count": 10,
   "metadata": {},
   "outputs": [
    {
     "data": {
      "text/plain": [
       "0.8"
      ]
     },
     "execution_count": 10,
     "metadata": {},
     "output_type": "execute_result"
    }
   ],
   "source": [
    "accuracy_score(y_test, y_pred)"
   ]
  },
  {
   "cell_type": "code",
   "execution_count": 11,
   "metadata": {},
   "outputs": [
    {
     "name": "stdout",
     "output_type": "stream",
     "text": [
      "             precision    recall  f1-score   support\n",
      "\n",
      "          0       0.69      0.79      0.73        14\n",
      "          1       0.88      0.81      0.84        26\n",
      "\n",
      "avg / total       0.81      0.80      0.80        40\n",
      "\n"
     ]
    }
   ],
   "source": [
    "print(classification_report(y_pred, y_test))"
   ]
  },
  {
   "cell_type": "code",
   "execution_count": 12,
   "metadata": {
    "collapsed": true
   },
   "outputs": [],
   "source": [
    "# y_test"
   ]
  },
  {
   "cell_type": "code",
   "execution_count": 13,
   "metadata": {
    "collapsed": true
   },
   "outputs": [],
   "source": [
    "# y_pred"
   ]
  },
  {
   "cell_type": "markdown",
   "metadata": {},
   "source": [
    "### Coba KFold Validation"
   ]
  },
  {
   "cell_type": "code",
   "execution_count": 43,
   "metadata": {},
   "outputs": [
    {
     "name": "stdout",
     "output_type": "stream",
     "text": [
      "Mean Acc of 4 Fold: 0.745\n"
     ]
    }
   ],
   "source": [
    "from sklearn.model_selection import KFold\n",
    "\n",
    "x = []\n",
    "y = []\n",
    "x_train = []\n",
    "y_train = []\n",
    "x_test = []\n",
    "y_test = []\n",
    "with open(path) as a:\n",
    "    b = csv.reader(a)\n",
    "    for row in b:\n",
    "        x.append(cleaning(row[2]))\n",
    "        y.append(row[3])\n",
    "x = np.array(x)\n",
    "y = np.array(y)\n",
    "        \n",
    "randomize = np.arange(len(x))\n",
    "np.random.shuffle(randomize)\n",
    "\n",
    "acc = []\n",
    "folds = 4\n",
    "kf = KFold(n_splits=folds)\n",
    "for train, test in kf.split(x):\n",
    "    x_train, x_test, y_train, y_test = x[train],x[test],y[train],y[test]\n",
    "    \n",
    "    count_word_on_class, count_word, word_class = count_word_in_class(x_train,y_train)\n",
    "    count_class = count_class_in_doc(y_train)\n",
    "    kelaz = list(count_class.keys())\n",
    "    y_pred = []\n",
    "    for i in range(0,len(x_test)):\n",
    "        prob_kelas = {}\n",
    "        for j in count_class.keys():\n",
    "            prob_c = 1\n",
    "            x_split = x_test[i].split()\n",
    "            for k in x_split:\n",
    "                tag = k+str(',')+str(j)\n",
    "                prob_c += math.log(hitung_prob(count_word_on_class.get(tag,0),word_class.get(j),len(count_word.keys())))\n",
    "            nama = str(i)+','+str(j)\n",
    "            prob_kelas[nama] = prob_c\n",
    "        y_pred.append(kelaz[np.argmax(list(prob_kelas.values()))])\n",
    "    acc.append(accuracy_score(y_test, y_pred))\n",
    "print(\"Mean Acc of\",folds,\"Fold:\",np.mean(acc))"
   ]
  },
  {
   "cell_type": "code",
   "execution_count": 15,
   "metadata": {},
   "outputs": [
    {
     "name": "stdout",
     "output_type": "stream",
     "text": [
      "             precision    recall  f1-score   support\n",
      "\n",
      "          0       0.93      0.48      0.64        29\n",
      "          1       0.57      0.95      0.71        21\n",
      "\n",
      "avg / total       0.78      0.68      0.67        50\n",
      "\n"
     ]
    }
   ],
   "source": [
    "print(classification_report(y_pred, y_test))"
   ]
  },
  {
   "cell_type": "markdown",
   "metadata": {},
   "source": [
    "## Data Sendiri"
   ]
  },
  {
   "cell_type": "code",
   "execution_count": 53,
   "metadata": {
    "collapsed": true
   },
   "outputs": [],
   "source": [
    "x_test = ['Saya suka sekali tempat dan suasananya, tapi makanannya biasa saja',\n",
    "         'Makanannya enak sekali, rasanya pas, pokoknya top!',\n",
    "         'Boleh juga makanannya, tapi pelayanannya biasa saja',\n",
    "         'Makanan oke, pelayanannya juga oke',\n",
    "         'tempatnya enak buat nongkrong ada 2 pilihan tempat outdor atau indor nama makanan dan minuman nya unik unik tapi ngeribetin pelayananya juga kurang ketika saya pesan minuman gelasnya yang terbuat dari kaca bocor dan minuman saya yang tumpah tidak di ganti saya pesan nasi goreng ldr rasanya tidak sebanding dengan harganya tempat nya kurang terang kalau buat foto foto hasilnya ga bagus seharusnya kualitas nya ditingkatkan lagi sesuai harga makanan dan minumannya']\n",
    "kelaz = list(count_class.keys())\n",
    "y_pred = []\n",
    "for i in range(0,len(x_test)):\n",
    "    prob_kelas = {}\n",
    "    for j in count_class.keys():\n",
    "        prob_c = 1\n",
    "        x_split = x_test[i].split()\n",
    "        for k in x_split:\n",
    "            tag = k+str(',')+str(j)\n",
    "            prob_c += math.log(hitung_prob(count_word_on_class.get(tag,0),word_class.get(j),len(count_word.keys())))\n",
    "        nama = str(i)+','+str(j)\n",
    "        prob_kelas[nama] = prob_c\n",
    "    if (kelaz[np.argmax(list(prob_kelas.values()))] == '1'):\n",
    "        y_pred.append('Positif')\n",
    "    else:\n",
    "        y_pred.append('Negatif')"
   ]
  },
  {
   "cell_type": "code",
   "execution_count": 55,
   "metadata": {},
   "outputs": [
    {
     "name": "stdout",
     "output_type": "stream",
     "text": [
      "Saya suka sekali tempat dan suasananya, tapi makanannya biasa saja  -  Negatif\n",
      "\n",
      "Makanannya enak sekali, rasanya pas, pokoknya top!  -  Positif\n",
      "\n",
      "Boleh juga makanannya, tapi pelayanannya biasa saja  -  Negatif\n",
      "\n",
      "Makanan oke, pelayanannya juga oke  -  Positif\n",
      "\n",
      "tempatnya enak buat nongkrong ada 2 pilihan tempat outdor atau indor nama makanan dan minuman nya unik unik tapi ngeribetin pelayananya juga kurang ketika saya pesan minuman gelasnya yang terbuat dari kaca bocor dan minuman saya yang tumpah tidak di ganti saya pesan nasi goreng ldr rasanya tidak sebanding dengan harganya tempat nya kurang terang kalau buat foto foto hasilnya ga bagus seharusnya kualitas nya ditingkatkan lagi sesuai harga makanan dan minumannya  -  Negatif\n",
      "\n"
     ]
    }
   ],
   "source": [
    "for i in range(len(x_test)):\n",
    "    print(x_test[i].strip(),' - ',y_pred[i])\n",
    "    print()"
   ]
  },
  {
   "cell_type": "code",
   "execution_count": null,
   "metadata": {
    "collapsed": true
   },
   "outputs": [],
   "source": []
  }
 ],
 "metadata": {
  "kernelspec": {
   "display_name": "Python 3",
   "language": "python",
   "name": "python3"
  },
  "language_info": {
   "codemirror_mode": {
    "name": "ipython",
    "version": 3
   },
   "file_extension": ".py",
   "mimetype": "text/x-python",
   "name": "python",
   "nbconvert_exporter": "python",
   "pygments_lexer": "ipython3",
   "version": "3.6.3"
  }
 },
 "nbformat": 4,
 "nbformat_minor": 2
}
