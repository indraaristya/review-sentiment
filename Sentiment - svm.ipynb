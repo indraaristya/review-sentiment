// 20181120195639
// https://raw.githubusercontent.com/yogiwisesa/review-sentiment/master/Sentiment%20-%20SVM.ipynb

{
  "cells": [
    {
      "cell_type": "code",
      "execution_count": 1,
      "metadata": {
        "collapsed": true
      },
      "outputs": [
        
      ],
      "source": [
        "path = './zomato.csv'"
      ]
    },
    {
      "cell_type": "code",
      "execution_count": 2,
      "metadata": {
        
      },
      "outputs": [
        {
          "name": "stderr",
          "output_type": "stream",
          "text": [
            "/Users/indraaristya/anaconda3/lib/python3.6/importlib/_bootstrap.py:219: RuntimeWarning: numpy.dtype size changed, may indicate binary incompatibility. Expected 96, got 88\n",
            "  return f(*args, **kwds)\n",
            "/Users/indraaristya/anaconda3/lib/python3.6/importlib/_bootstrap.py:219: RuntimeWarning: numpy.dtype size changed, may indicate binary incompatibility. Expected 96, got 88\n",
            "  return f(*args, **kwds)\n",
            "/Users/indraaristya/anaconda3/lib/python3.6/importlib/_bootstrap.py:219: RuntimeWarning: numpy.dtype size changed, may indicate binary incompatibility. Expected 96, got 88\n",
            "  return f(*args, **kwds)\n",
            "/Users/indraaristya/anaconda3/lib/python3.6/importlib/_bootstrap.py:219: RuntimeWarning: numpy.dtype size changed, may indicate binary incompatibility. Expected 96, got 88\n",
            "  return f(*args, **kwds)\n"
          ]
        }
      ],
      "source": [
        "import csv\n",
        "import os\n",
        "import glob\n",
        "import numpy as np\n",
        "import math\n",
        "#scikit learn\n",
        "from sklearn.pipeline import Pipeline\n",
        "from sklearn.metrics import accuracy_score, classification_report, confusion_matrix\n",
        "from sklearn.model_selection import GridSearchCV\n",
        "from sklearn.feature_extraction.text import CountVectorizer\n",
        "from sklearn.feature_extraction.text import TfidfTransformer\n",
        "\n",
        "#stemmer\n",
        "from Sastrawi.Stemmer.StemmerFactory import StemmerFactory\n",
        "from Sastrawi.StopWordRemover.StopWordRemoverFactory import StopWordRemoverFactory"
      ]
    },
    {
      "cell_type": "code",
      "execution_count": 3,
      "metadata": {
        "collapsed": true
      },
      "outputs": [
        
      ],
      "source": [
        "def cleaning(sentence):\n",
        "    sentence = sentence.replace('\\ufeff','')\n",
        "    sentence = sentence.replace('\\n',' ')\n",
        "    sentence = sentence.replace('\\r',' ')\n",
        "    sentence = sentence.replace('\\n\\n',' ')\n",
        "    sentence = sentence.replace('\\r\\r',' ')\n",
        "    sentence = sentence.replace('.',' ')\n",
        "    sentence = sentence.replace(',',' ')\n",
        "    sentence = sentence.replace('\"',' ')\n",
        "    sentence = sentence.replace('!',' ')\n",
        "    sentence = sentence.replace('?',' ')\n",
        "    sentence = sentence.replace('/',' ')\n",
        "    sentence = sentence.replace('-',' ')\n",
        "    sentence = sentence.lstrip()\n",
        "    return sentence.lower()"
      ]
    },
    {
      "cell_type": "code",
      "execution_count": 4,
      "metadata": {
        "collapsed": true
      },
      "outputs": [
        
      ],
      "source": [
        "def convert(sentences):\n",
        "    import re\n",
        "    cleanEmoticon = []\n",
        "    for sentence in sentences:\n",
        "        try:\n",
        "            highpoints = re.compile(u'([\\U00002600-\\U000027BF])|([\\U0001f300-\\U0001f64F])|([\\U0001f680-\\U0001f6FF])')\n",
        "        except re.error:\n",
        "            highpoints = re.compile(u'([\\u2600-\\u27BF])|([\\uD83C][\\uDF00-\\uDFFF])|([\\uD83D][\\uDC00-\\uDE4F])|([\\uD83D][\\uDE80-\\uDEFF])')\n",
        "    \n",
        "        cleanEmoticon.append(highpoints.sub(u'\\u25FD', sentence))\n",
        "    return cleanEmoticon"
      ]
    },
    {
      "cell_type": "code",
      "execution_count": 7,
      "metadata": {
        "collapsed": true
      },
      "outputs": [
        
      ],
      "source": [
        "x = []\n",
        "y = []\n",
        "with open(path) as a:\n",
        "    b = csv.reader(a)\n",
        "    for row in b:\n",
        "        x.append(cleaning(row[2]))\n",
        "        y.append(row[3])\n",
        "x = np.array(x)\n",
        "y = np.array(y)"
      ]
    },
    {
      "cell_type": "code",
      "execution_count": 8,
      "metadata": {
        "collapsed": true
      },
      "outputs": [
        
      ],
      "source": [
        "randomize = np.arange(len(x))\n",
        "np.random.shuffle(randomize)\n",
        "x = x[randomize]\n",
        "y = y[randomize]"
      ]
    },
    {
      "cell_type": "code",
      "execution_count": 9,
      "metadata": {
        "collapsed": true
      },
      "outputs": [
        
      ],
      "source": [
        "x_train = x[:150]\n",
        "y_train = y[:150]\n",
        "\n",
        "x_test = x[150:]\n",
        "y_test = y[150:]"
      ]
    },
    {
      "cell_type": "code",
      "execution_count": 10,
      "metadata": {
        "collapsed": true
      },
      "outputs": [
        
      ],
      "source": [
        "def preprocess(sentences): \n",
        "    factory = StopWordRemoverFactory()\n",
        "    stopword = factory.create_stop_word_remover()\n",
        "    \n",
        "    factory = StemmerFactory()\n",
        "    stemmer = factory.create_stemmer()\n",
        "    result =[]\n",
        "    for sentence in sentences:\n",
        "        result.append(stemmer.stem(stopword.remove(sentence)))\n",
        "    return result"
      ]
    },
    {
      "cell_type": "code",
      "execution_count": 11,
      "metadata": {
        "collapsed": true
      },
      "outputs": [
        
      ],
      "source": [
        "# stem_test = ['dia biasanya makan nasi padang', \n",
        "#              'aku menyukainya dengan tulus dan raisa', \n",
        "#              'ku tak kan pernah memilikinya sampai kapanpun', \n",
        "#              'karena dia sudah memilikinya & dimilikinya']\n",
        "\n",
        "x_train = preprocess(x_train)\n",
        "x_test = preprocess(x_test)"
      ]
    },
    {
      "cell_type": "code",
      "execution_count": 12,
      "metadata": {
        "collapsed": true
      },
      "outputs": [
        
      ],
      "source": [
        "x_train = convert(x_train)\n",
        "x_test = convert(x_test)"
      ]
    },
    {
      "cell_type": "markdown",
      "metadata": {
        
      },
      "source": [
        "### Scikit-Learn Tweaks\n",
        "Reference:\n",
        "https://towardsdatascience.com/machine-learning-nlp-text-classification-using-scikit-learn-python-and-nltk-c52b92a7c73a"
      ]
    },
    {
      "cell_type": "code",
      "execution_count": 13,
      "metadata": {
        
      },
      "outputs": [
        {
          "name": "stderr",
          "output_type": "stream",
          "text": [
            "/Users/indraaristya/anaconda3/lib/python3.6/importlib/_bootstrap.py:219: RuntimeWarning: numpy.dtype size changed, may indicate binary incompatibility. Expected 96, got 88\n",
            "  return f(*args, **kwds)\n"
          ]
        }
      ],
      "source": [
        "from sklearn import svm\n",
        "\n",
        "text_clf = Pipeline([\n",
        "                     ('vect', CountVectorizer()),\n",
        "                     ('tfidf', TfidfTransformer()),\n",
        "                     ('clf', svm.SVC(kernel='linear')),\n",
        "])\n",
        "text_clf = text_clf.fit(x_train, y_train)"
      ]
    },
    {
      "cell_type": "code",
      "execution_count": 14,
      "metadata": {
        "collapsed": true
      },
      "outputs": [
        
      ],
      "source": [
        "y_pred = text_clf.predict(x_test)"
      ]
    },
    {
      "cell_type": "code",
      "execution_count": 15,
      "metadata": {
        
      },
      "outputs": [
        {
          "data": {
            "text/plain": [
              "0.78"
            ]
          },
          "execution_count": 15,
          "metadata": {
            
          },
          "output_type": "execute_result"
        }
      ],
      "source": [
        "accuracy_score(y_test, y_pred)"
      ]
    },
    {
      "cell_type": "markdown",
      "metadata": {
        
      },
      "source": [
        "### Gensim\n",
        "http://nadbordrozd.github.io/blog/2016/05/20/text-classification-with-word2vec/\n",
        "\n",
        "https://github.com/RaRe-Technologies/gensim/issues/1095\n",
        "\n",
        "https://markhneedham.com/blog/2018/05/19/interpreting-word2vec-glove-embeddings-sklearn-neo4j-graph-algorithms/"
      ]
    },
    {
      "cell_type": "code",
      "execution_count": 29,
      "metadata": {
        
      },
      "outputs": [
        {
          "name": "stderr",
          "output_type": "stream",
          "text": [
            "Downloading 20news dataset. This may take a few minutes.\n",
            "Downloading dataset from https://ndownloader.figshare.com/files/5975967 (14 MB)\n",
            "/home/yogiwisesa/anaconda3/lib/python3.6/site-packages/ipykernel_launcher.py:19: DeprecationWarning: Call to deprecated `most_similar` (Method will be removed in 4.0.0, use self.wv.most_similar() instead).\n",
            "/home/yogiwisesa/anaconda3/lib/python3.6/site-packages/gensim-3.6.0-py3.6-linux-x86_64.egg/gensim/matutils.py:737: FutureWarning: Conversion of the second argument of issubdtype from `int` to `np.signedinteger` is deprecated. In future, it will be treated as `np.int64 == np.dtype(int).type`.\n",
            "  if np.issubdtype(vec.dtype, np.int):\n",
            "/home/yogiwisesa/anaconda3/lib/python3.6/site-packages/ipykernel_launcher.py:21: DeprecationWarning: Call to deprecated `__getitem__` (Method will be removed in 4.0.0, use self.wv.__getitem__() instead).\n"
          ]
        },
        {
          "name": "stdout",
          "output_type": "stream",
          "text": [
            "[('cpu', 0.8158993721008301), ('cache', 0.8148128390312195), ('ram', 0.7639777660369873), ('processor', 0.7591443061828613), ('colour', 0.7448656558990479), ('dma', 0.7439601421356201), ('isa', 0.7405626773834229), ('vram', 0.7391113042831421), ('disk', 0.7375082969665527), ('screen', 0.7374407052993774)]\n"
          ]
        },
        {
          "data": {
            "text/plain": [
              "<Figure size 640x480 with 1 Axes>"
            ]
          },
          "metadata": {
            
          },
          "output_type": "display_data"
        }
      ],
      "source": [
        "from gensim.models.word2vec import Word2Vec\n",
        "from sklearn.manifold import TSNE\n",
        "from sklearn.datasets import fetch_20newsgroups\n",
        "import re\n",
        "import matplotlib.pyplot as plt\n",
        "\n",
        "# download example data ( may take a while)\n",
        "train = fetch_20newsgroups()\n",
        "\n",
        "def clean(text):\n",
        "    \"\"\"Remove posting header, split by sentences and words, keep only letters\"\"\"\n",
        "    lines = re.split('[?!.:]\\s', re.sub('^.*Lines: \\d+', '', re.sub('\\n', ' ', text)))\n",
        "    return [re.sub('[^a-zA-Z]', ' ', line).lower().split() for line in lines]\n",
        "\n",
        "sentences = [line for text in train.data for line in clean(text)]\n",
        "\n",
        "model = Word2Vec(sentences, workers=4, size=100, min_count=50, window=10, sample=1e-3)\n",
        "\n",
        "print (model.most_similar('memory'))\n",
        "\n",
        "X = model[model.wv.vocab]\n",
        "\n",
        "tsne = TSNE(n_components=2)\n",
        "X_tsne = tsne.fit_transform(X)\n",
        "\n"
      ]
    },
    {
      "cell_type": "code",
      "execution_count": 31,
      "metadata": {
        
      },
      "outputs": [
        {
          "data": {
            "image/png": "[encoded data removed]",
            "text/plain": [
              "<Figure size 432x288 with 1 Axes>"
            ]
          },
          "metadata": {
            
          },
          "output_type": "display_data"
        }
      ],
      "source": [
        "# download example data ( may take a while)\n",
        "train = fetch_20newsgroups()\n",
        "\n",
        "def clean(text):\n",
        "    \"\"\"Remove posting header, split by sentences and words, keep only letters\"\"\"\n",
        "    lines = re.split('[?!.:]\\s', re.sub('^.*Lines: \\d+', '', re.sub('\\n', ' ', text)))\n",
        "    return [re.sub('[^a-zA-Z]', ' ', line).lower().split() for line in lines]\n",
        "\n",
        "sentences = [line for text in train.data for line in clean(text)]"
      ]
    },
    {
      "cell_type": "code",
      "execution_count": 36,
      "metadata": {
        
      },
      "outputs": [
        {
          "data": {
            "text/plain": [
              "list"
            ]
          },
          "execution_count": 36,
          "metadata": {
            
          },
          "output_type": "execute_result"
        }
      ],
      "source": [
        
      ]
    },
    {
      "cell_type": "code",
      "execution_count": 16,
      "metadata": {
        "collapsed": true
      },
      "outputs": [
        
      ],
      "source": [
        "from sklearn.naive_bayes import MultinomialNB\n",
        "text_clf = Pipeline([('vect', CountVectorizer()),\n",
        "#                      ('tfidf', TfidfTransformer()),\n",
        "                     ('clf', MultinomialNB()),\n",
        "])\n",
        "text_clf = text_clf.fit(x_train, y_train)"
      ]
    },
    {
      "cell_type": "code",
      "execution_count": 17,
      "metadata": {
        "collapsed": true
      },
      "outputs": [
        
      ],
      "source": [
        "y_pred = text_clf.predict(x_test)"
      ]
    },
    {
      "cell_type": "code",
      "execution_count": 18,
      "metadata": {
        
      },
      "outputs": [
        {
          "data": {
            "text/plain": [
              "0.8"
            ]
          },
          "execution_count": 18,
          "metadata": {
            
          },
          "output_type": "execute_result"
        }
      ],
      "source": [
        "accuracy_score(y_test, y_pred) "
      ]
    },
    {
      "cell_type": "code",
      "execution_count": 19,
      "metadata": {
        "collapsed": true
      },
      "outputs": [
        
      ],
      "source": [
        "s_l = classification_report(y_test, y_pred,target_names=['0','1'])"
      ]
    },
    {
      "cell_type": "code",
      "execution_count": 20,
      "metadata": {
        
      },
      "outputs": [
        {
          "name": "stdout",
          "output_type": "stream",
          "text": [
            "             precision    recall  f1-score   support\n",
            "\n",
            "          0       0.90      0.79      0.84        34\n",
            "          1       0.65      0.81      0.72        16\n",
            "\n",
            "avg / total       0.82      0.80      0.80        50\n",
            "\n"
          ]
        }
      ],
      "source": [
        "print(s_l)"
      ]
    },
    {
      "cell_type": "code",
      "execution_count": 21,
      "metadata": {
        
      },
      "outputs": [
        {
          "data": {
            "text/plain": [
              "array([[27,  7],\n",
              "       [ 3, 13]])"
            ]
          },
          "execution_count": 21,
          "metadata": {
            
          },
          "output_type": "execute_result"
        }
      ],
      "source": [
        "confusion_matrix(y_test, y_pred)"
      ]
    },
    {
      "cell_type": "code",
      "execution_count": 24,
      "metadata": {
        
      },
      "outputs": [
        {
          "name": "stdout",
          "output_type": "stream",
          "text": [
            "Accuracy: [0.85, 0.65, 0.8, 0.825, 0.8]\n",
            "Mean Acc of 5 Fold: 0.7849999999999999\n"
          ]
        }
      ],
      "source": [
        "from sklearn.model_selection import KFold\n",
        "\n",
        "x = np.concatenate((x_train,x_test))\n",
        "y = np.concatenate((y_train,y_test))\n",
        "        \n",
        "randomize = np.arange(len(x))\n",
        "np.random.shuffle(randomize)\n",
        "\n",
        "acc = []\n",
        "folds = 5\n",
        "kf = KFold(n_splits=folds)\n",
        "for train, test in kf.split(x):\n",
        "    x_train, x_test, y_train, y_test = x[train],x[test],y[train],y[test]\n",
        "    \n",
        "    text_clf = Pipeline([('vect', CountVectorizer()),\n",
        "                     ('clf', MultinomialNB()),\n",
        "    ])\n",
        "    text_clf = text_clf.fit(x_train, y_train)\n",
        "    y_pred = text_clf.predict(x_test)\n",
        "    acc.append(accuracy_score(y_test, y_pred))\n",
        "print(\"Accuracy:\",acc)\n",
        "print(\"Mean Acc of\",folds,\"Fold:\",np.mean(acc))"
      ]
    },
    {
      "cell_type": "code",
      "execution_count": null,
      "metadata": {
        "collapsed": true
      },
      "outputs": [
        
      ],
      "source": [
        
      ]
    }
  ],
  "metadata": {
    "kernelspec": {
      "display_name": "Python 3",
      "language": "python",
      "name": "python3"
    },
    "language_info": {
      "codemirror_mode": {
        "name": "ipython",
        "version": 3
      },
      "file_extension": ".py",
      "mimetype": "text/x-python",
      "name": "python",
      "nbconvert_exporter": "python",
      "pygments_lexer": "ipython3",
      "version": "3.6.3"
    }
  },
  "nbformat": 4,
  "nbformat_minor": 2
}